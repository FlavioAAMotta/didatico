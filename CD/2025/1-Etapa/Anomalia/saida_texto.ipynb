{
 "cells": [
  {
   "cell_type": "code",
   "execution_count": 5,
   "metadata": {},
   "outputs": [],
   "source": [
    "import pandas as pd"
   ]
  },
  {
   "cell_type": "code",
   "execution_count": 6,
   "metadata": {},
   "outputs": [],
   "source": [
    "df_eletrodomesticos = pd.read_csv('consumo_eletrodomesticos.csv')\n",
    "df_temperatura = pd.read_csv('temperatura_servidores.csv')\n",
    "df_batimentos = pd.read_csv('batimentos_cardiacos.csv')\n"
   ]
  },
  {
   "cell_type": "code",
   "execution_count": 7,
   "metadata": {},
   "outputs": [],
   "source": [
    "# Removendo a coluna tipo_anomalia do df batimentos\n",
    "df_batimentos = df_batimentos.drop(columns=['tipo_anomalia'])\n",
    "\n",
    "# Removendo a coluna hora_do_dia do df batimentos\n",
    "df_batimentos = df_batimentos.drop(columns=['hora_do_dia'])\n",
    "\n",
    "\n"
   ]
  },
  {
   "cell_type": "code",
   "execution_count": 8,
   "metadata": {},
   "outputs": [],
   "source": [
    "# Embaralhando os dados\n",
    "df_eletrodomesticos = df_eletrodomesticos.sample(frac=1).reset_index(drop=True)\n",
    "df_temperatura = df_temperatura.sample(frac=1).reset_index(drop=True)\n",
    "df_batimentos = df_batimentos.sample(frac=1).reset_index(drop=True)"
   ]
  },
  {
   "cell_type": "code",
   "execution_count": 9,
   "metadata": {},
   "outputs": [],
   "source": [
    "# Salvando os dados com anomalias identificadas\n",
    "df_eletrodomesticos.to_csv('consumo_eletrodomesticos_anomalias.csv', index=False)\n",
    "df_temperatura.to_csv('temperatura_servidores_anomalias.csv', index=False)\n",
    "df_batimentos.to_csv('batimentos_cardiacos_anomalias.csv', index=False)\n"
   ]
  },
  {
   "cell_type": "code",
   "execution_count": 10,
   "metadata": {},
   "outputs": [],
   "source": [
    "# Retirando a coluna anomalia\n",
    "df_eletrodomesticos = df_eletrodomesticos.drop(columns=['anomalia'])\n",
    "df_temperatura = df_temperatura.drop(columns=['anomalia'])\n",
    "df_batimentos = df_batimentos.drop(columns=['anomalia'])"
   ]
  },
  {
   "cell_type": "code",
   "execution_count": 11,
   "metadata": {},
   "outputs": [],
   "source": [
    "# Salvando os dados sem anomalias identificadas\n",
    "df_eletrodomesticos.to_csv('consumo_eletrodomesticos.csv', index=False)\n",
    "df_temperatura.to_csv('temperatura_servidores.csv', index=False)\n",
    "df_batimentos.to_csv('batimentos_cardiacos.csv', index=False)\n",
    "\n"
   ]
  }
 ],
 "metadata": {
  "kernelspec": {
   "display_name": "Python 3",
   "language": "python",
   "name": "python3"
  },
  "language_info": {
   "codemirror_mode": {
    "name": "ipython",
    "version": 3
   },
   "file_extension": ".py",
   "mimetype": "text/x-python",
   "name": "python",
   "nbconvert_exporter": "python",
   "pygments_lexer": "ipython3",
   "version": "3.10.11"
  }
 },
 "nbformat": 4,
 "nbformat_minor": 2
}
