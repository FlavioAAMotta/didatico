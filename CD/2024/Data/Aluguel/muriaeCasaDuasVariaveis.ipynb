{
 "cells": [
  {
   "cell_type": "code",
   "execution_count": 2,
   "metadata": {},
   "outputs": [],
   "source": [
    "import pandas as pd\n",
    "import numpy as np"
   ]
  },
  {
   "cell_type": "code",
   "execution_count": 3,
   "metadata": {},
   "outputs": [],
   "source": [
    "# Definindo a semente para reprodutibilidade\n",
    "np.random.seed(42)\n",
    "\n",
    "# Número de linhas\n",
    "n_linhas = 1000\n",
    "\n",
    "# Gerando dados sintéticos\n",
    "data = {\n",
    "    'Area': np.random.randint(30, 300, n_linhas),\n",
    "    'Quartos': np.random.randint(1, 6, n_linhas)\n",
    "}"
   ]
  },
  {
   "cell_type": "code",
   "execution_count": 4,
   "metadata": {},
   "outputs": [],
   "source": [
    "# DataFrame sem ruído\n",
    "df_sem_ruido = pd.DataFrame(data)\n",
    "base_price = 800\n",
    "df_sem_ruido['Preco'] = (base_price +\n",
    "                         df_sem_ruido['Area'] * 20 + \n",
    "                         df_sem_ruido['Quartos'] * 250)\n",
    "\n",
    "# Adicionando ruído ao DataFrame sem ruído para criar um com ruído\n",
    "ruído = np.random.normal(0, 250, n_linhas)  # Média 0, Desvio padrão 250\n",
    "df_com_ruido = df_sem_ruido.copy()\n",
    "df_com_ruido['Preco'] += ruído  # Adicionando ruído"
   ]
  },
  {
   "cell_type": "code",
   "execution_count": 5,
   "metadata": {},
   "outputs": [
    {
     "name": "stdout",
     "output_type": "stream",
     "text": [
      "Dataset sem ruído:\n",
      "   Area  Quartos  Preco\n",
      "0   132        2   3940\n",
      "1   136        5   4770\n",
      "2   101        3   3570\n",
      "3   218        1   5410\n",
      "4    50        3   2550\n",
      "\n",
      "Dataset com ruído:\n",
      "   Area  Quartos        Preco\n",
      "0   132        2  3786.649334\n",
      "1   136        5  4694.382578\n",
      "2   101        3  3472.955795\n",
      "3   218        1  5452.604056\n",
      "4    50        3  2590.143495\n"
     ]
    }
   ],
   "source": [
    "# Exibindo as primeiras linhas dos datasets para conferência\n",
    "print(\"Dataset sem ruído:\")\n",
    "print(df_sem_ruido.head())\n",
    "print(\"\\nDataset com ruído:\")\n",
    "print(df_com_ruido.head())"
   ]
  },
  {
   "cell_type": "code",
   "execution_count": 6,
   "metadata": {},
   "outputs": [],
   "source": [
    "# Salvando os datasets em arquivos CSV de nome 'aluguel_duas_variaveis_sem_ruido.csv' e 'aluguel_duas_variaveis_com_ruido.csv'\n",
    "df_sem_ruido.to_csv('aluguel_duas_variaveis_sem_ruido.csv', index=False)\n",
    "df_com_ruido.to_csv('aluguel_duas_variaveis_com_ruido.csv', index=False)\n"
   ]
  },
  {
   "cell_type": "code",
   "execution_count": null,
   "metadata": {},
   "outputs": [],
   "source": []
  }
 ],
 "metadata": {
  "kernelspec": {
   "display_name": "Python 3",
   "language": "python",
   "name": "python3"
  },
  "language_info": {
   "codemirror_mode": {
    "name": "ipython",
    "version": 3
   },
   "file_extension": ".py",
   "mimetype": "text/x-python",
   "name": "python",
   "nbconvert_exporter": "python",
   "pygments_lexer": "ipython3",
   "version": "3.10.4"
  }
 },
 "nbformat": 4,
 "nbformat_minor": 2
}
