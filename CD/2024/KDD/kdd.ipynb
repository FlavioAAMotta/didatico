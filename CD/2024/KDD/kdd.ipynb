{
 "cells": [
  {
   "cell_type": "code",
   "execution_count": 267,
   "metadata": {},
   "outputs": [],
   "source": [
    "import pandas as pd\n",
    "import matplotlib.pyplot as plt\n",
    "from datetime import datetime\n",
    "\n"
   ]
  },
  {
   "cell_type": "code",
   "execution_count": 268,
   "metadata": {},
   "outputs": [],
   "source": [
    "df = pd.read_csv('../Data/Dados Sujos/clientesSujos.csv')"
   ]
  },
  {
   "cell_type": "code",
   "execution_count": 269,
   "metadata": {},
   "outputs": [
    {
     "data": {
      "text/html": [
       "<div>\n",
       "<style scoped>\n",
       "    .dataframe tbody tr th:only-of-type {\n",
       "        vertical-align: middle;\n",
       "    }\n",
       "\n",
       "    .dataframe tbody tr th {\n",
       "        vertical-align: top;\n",
       "    }\n",
       "\n",
       "    .dataframe thead th {\n",
       "        text-align: right;\n",
       "    }\n",
       "</style>\n",
       "<table border=\"1\" class=\"dataframe\">\n",
       "  <thead>\n",
       "    <tr style=\"text-align: right;\">\n",
       "      <th></th>\n",
       "      <th>Nome</th>\n",
       "      <th>Nascimento</th>\n",
       "      <th>Salário</th>\n",
       "      <th>Cargo</th>\n",
       "    </tr>\n",
       "  </thead>\n",
       "  <tbody>\n",
       "    <tr>\n",
       "      <th>0</th>\n",
       "      <td>FILIPE COSTA</td>\n",
       "      <td>05/02/1998</td>\n",
       "      <td>3732.0</td>\n",
       "      <td>Assistente</td>\n",
       "    </tr>\n",
       "    <tr>\n",
       "      <th>1</th>\n",
       "      <td>VICTOR CRUZ</td>\n",
       "      <td>28/03/2002</td>\n",
       "      <td>11799.0</td>\n",
       "      <td>Assistente</td>\n",
       "    </tr>\n",
       "    <tr>\n",
       "      <th>2</th>\n",
       "      <td>OTÁVIO SILVA</td>\n",
       "      <td>15/07/1991</td>\n",
       "      <td>1000.0</td>\n",
       "      <td>Estagiário</td>\n",
       "    </tr>\n",
       "    <tr>\n",
       "      <th>3</th>\n",
       "      <td>JOÃO CRUZ</td>\n",
       "      <td>08/11/2004</td>\n",
       "      <td>4264.0</td>\n",
       "      <td>Gerente</td>\n",
       "    </tr>\n",
       "    <tr>\n",
       "      <th>4</th>\n",
       "      <td>GUSTAVO NETO</td>\n",
       "      <td>25/05/1994</td>\n",
       "      <td>1000.0</td>\n",
       "      <td>Estagiário</td>\n",
       "    </tr>\n",
       "  </tbody>\n",
       "</table>\n",
       "</div>"
      ],
      "text/plain": [
       "           Nome  Nascimento  Salário       Cargo\n",
       "0  FILIPE COSTA  05/02/1998   3732.0  Assistente\n",
       "1   VICTOR CRUZ  28/03/2002  11799.0  Assistente\n",
       "2  OTÁVIO SILVA  15/07/1991   1000.0  Estagiário\n",
       "3     JOÃO CRUZ  08/11/2004   4264.0     Gerente\n",
       "4  GUSTAVO NETO  25/05/1994   1000.0  Estagiário"
      ]
     },
     "execution_count": 269,
     "metadata": {},
     "output_type": "execute_result"
    }
   ],
   "source": [
    "df.head()"
   ]
  },
  {
   "cell_type": "code",
   "execution_count": 270,
   "metadata": {},
   "outputs": [
    {
     "data": {
      "image/png": "[encoded data removed]",
      "text/plain": [
       "<Figure size 432x288 with 1 Axes>"
      ]
     },
     "metadata": {
      "needs_background": "light"
     },
     "output_type": "display_data"
    }
   ],
   "source": [
    "df.boxplot(column='Salário')\n",
    "plt.show()"
   ]
  },
  {
   "cell_type": "code",
   "execution_count": 271,
   "metadata": {},
   "outputs": [
    {
     "data": {
      "text/plain": [
       "Nome          1\n",
       "Nascimento    1\n",
       "Salário       2\n",
       "Cargo         0\n",
       "dtype: int64"
      ]
     },
     "execution_count": 271,
     "metadata": {},
     "output_type": "execute_result"
    }
   ],
   "source": [
    "# Descobrindo valores ausentes\n",
    "df.isnull().sum()"
   ]
  },
  {
   "cell_type": "code",
   "execution_count": 272,
   "metadata": {},
   "outputs": [
    {
     "name": "stdout",
     "output_type": "stream",
     "text": [
      "            Nome  Nascimento  Salário       Cargo\n",
      "101          NaN  05/08/1990   1000.0  Estagiário\n",
      "102  JÚLIO MASSI         NaN   1000.0  Estagiário\n",
      "103  MAYCON CRUZ  21/04/1999      NaN  Estagiário\n",
      "104  FILIPE CRUZ  01/08/2001      NaN     Gerente\n"
     ]
    }
   ],
   "source": [
    "# Imprimindo as linhas com valores ausentes\n",
    "print(df[df.isnull().any(axis=1)])"
   ]
  },
  {
   "cell_type": "code",
   "execution_count": 273,
   "metadata": {},
   "outputs": [
    {
     "name": "stdout",
     "output_type": "stream",
     "text": [
      "                 Salário\n",
      "Cargo                   \n",
      "Analista     6332.466667\n",
      "Asistente    1000.000000\n",
      "Assistente   8978.150000\n",
      "Direto      40000.000000\n",
      "Diretor      6928.000000\n",
      "Estagiário   1000.000000\n",
      "Gerente      7484.724138\n"
     ]
    },
    {
     "name": "stderr",
     "output_type": "stream",
     "text": [
      "C:\\Users\\Pichau\\AppData\\Local\\Temp\\ipykernel_19992\\2846044267.py:2: FutureWarning: The default value of numeric_only in DataFrameGroupBy.mean is deprecated. In a future version, numeric_only will default to False. Either specify numeric_only or select only columns which should be valid for the function.\n",
      "  print(df.groupby('Cargo').mean())\n"
     ]
    }
   ],
   "source": [
    "# Média de salários por cargo\n",
    "print(df.groupby('Cargo').mean())"
   ]
  },
  {
   "cell_type": "code",
   "execution_count": 274,
   "metadata": {},
   "outputs": [
    {
     "name": "stdout",
     "output_type": "stream",
     "text": [
      "            Salário\n",
      "Cargo              \n",
      "Analista     5420.0\n",
      "Asistente    1000.0\n",
      "Assistente   9479.0\n",
      "Direto      40000.0\n",
      "Diretor      7172.0\n",
      "Estagiário   1000.0\n",
      "Gerente      6874.0\n"
     ]
    },
    {
     "name": "stderr",
     "output_type": "stream",
     "text": [
      "C:\\Users\\Pichau\\AppData\\Local\\Temp\\ipykernel_19992\\246265820.py:2: FutureWarning: The default value of numeric_only in DataFrameGroupBy.median is deprecated. In a future version, numeric_only will default to False. Either specify numeric_only or select only columns which should be valid for the function.\n",
      "  print(df.groupby('Cargo').median())\n"
     ]
    }
   ],
   "source": [
    "# Média de salários por cargo\n",
    "print(df.groupby('Cargo').median())"
   ]
  },
  {
   "cell_type": "code",
   "execution_count": 275,
   "metadata": {},
   "outputs": [
    {
     "data": {
      "image/png": "[encoded data removed]",
      "text/plain": [
       "<Figure size 432x288 with 1 Axes>"
      ]
     },
     "metadata": {
      "needs_background": "light"
     },
     "output_type": "display_data"
    }
   ],
   "source": [
    "# Boxplot de salários por cargo\n",
    "df.boxplot(column='Salário', by='Cargo')\n",
    "plt.show()"
   ]
  },
  {
   "cell_type": "code",
   "execution_count": 276,
   "metadata": {},
   "outputs": [],
   "source": [
    "# Preenchendo valores ausentes com a média dos salários dos cargos\n",
    "df['Salário'] = df['Salário'].fillna(df.groupby('Cargo')['Salário'].transform('mean'))"
   ]
  },
  {
   "cell_type": "code",
   "execution_count": 277,
   "metadata": {},
   "outputs": [
    {
     "name": "stdout",
     "output_type": "stream",
     "text": [
      "            Nome  Nascimento      Salário       Cargo\n",
      "102  JÚLIO MASSI         NaN  1000.000000  Estagiário\n",
      "103  MAYCON CRUZ  21/04/1999  1000.000000  Estagiário\n",
      "104  FILIPE CRUZ  01/08/2001  7484.724138     Gerente\n"
     ]
    }
   ],
   "source": [
    "# Imprimindo as linhas com valores ausentes\n",
    "print(df[102:105])"
   ]
  },
  {
   "cell_type": "code",
   "execution_count": 278,
   "metadata": {},
   "outputs": [
    {
     "name": "stdout",
     "output_type": "stream",
     "text": [
      "1\n",
      "               Nome  Nascimento  Salário     Cargo\n",
      "100  JÚLIO OLIVEIRA  25/01/1990  11959.0  Analista\n",
      "               Nome  Nascimento  Salário     Cargo\n",
      "99   JÚLIO OLIVEIRA  25/01/1990  11959.0  Analista\n",
      "100  JÚLIO OLIVEIRA  25/01/1990  11959.0  Analista\n"
     ]
    }
   ],
   "source": [
    "# Imprimindo quantidades de duplicados\n",
    "print(df.duplicated().sum())\n",
    "# Identificando duplicados\n",
    "print(df[df.duplicated()])\n",
    "# Imprimindo as linhas duplicadas\n",
    "print(df[df.duplicated(keep=False)])\n"
   ]
  },
  {
   "cell_type": "code",
   "execution_count": 279,
   "metadata": {},
   "outputs": [],
   "source": [
    "# Removendo duplicados\n",
    "df = df.drop_duplicates()"
   ]
  },
  {
   "cell_type": "code",
   "execution_count": 280,
   "metadata": {},
   "outputs": [
    {
     "name": "stdout",
     "output_type": "stream",
     "text": [
      "['Assistente' 'Estagiário' 'Gerente' 'Diretor' 'Analista' 'Asistente'\n",
      " 'Direto']\n"
     ]
    }
   ],
   "source": [
    "#Identificando erros de digitação\n",
    "print(df['Cargo'].unique())\n"
   ]
  },
  {
   "cell_type": "code",
   "execution_count": 281,
   "metadata": {},
   "outputs": [
    {
     "name": "stdout",
     "output_type": "stream",
     "text": [
      "['Assistente' 'Estagiário' 'Gerente' 'Diretor' 'Analista']\n"
     ]
    },
    {
     "name": "stderr",
     "output_type": "stream",
     "text": [
      "C:\\Users\\Pichau\\AppData\\Local\\Temp\\ipykernel_19992\\686472207.py:5: FutureWarning: The default value of regex will change from True to False in a future version.\n",
      "  df['Cargo'] = df['Cargo'].str.replace(r'\\bDireto\\b','Diretor')\n"
     ]
    }
   ],
   "source": [
    "#Substituindo valores 'Direto' por 'Diretor' e \"Asistente\" por \"Assistente\"\n",
    "# df['Cargo'] = df['Cargo'].str.replace('Direto','Diretor')\n",
    "\n",
    "# Cuidado, a ocorrencia de 'Direto' tem que ser exata\n",
    "df['Cargo'] = df['Cargo'].str.replace(r'\\bDireto\\b','Diretor')\n",
    "df['Cargo'] = df['Cargo'].str.replace('Asistente','Assistente')\n",
    "print(df['Cargo'].unique())"
   ]
  },
  {
   "cell_type": "code",
   "execution_count": null,
   "metadata": {},
   "outputs": [],
   "source": []
  },
  {
   "cell_type": "code",
   "execution_count": 282,
   "metadata": {},
   "outputs": [
    {
     "data": {
      "text/html": [
       "<div>\n",
       "<style scoped>\n",
       "    .dataframe tbody tr th:only-of-type {\n",
       "        vertical-align: middle;\n",
       "    }\n",
       "\n",
       "    .dataframe tbody tr th {\n",
       "        vertical-align: top;\n",
       "    }\n",
       "\n",
       "    .dataframe thead th {\n",
       "        text-align: right;\n",
       "    }\n",
       "</style>\n",
       "<table border=\"1\" class=\"dataframe\">\n",
       "  <thead>\n",
       "    <tr style=\"text-align: right;\">\n",
       "      <th></th>\n",
       "      <th>data</th>\n",
       "    </tr>\n",
       "  </thead>\n",
       "  <tbody>\n",
       "    <tr>\n",
       "      <th>0</th>\n",
       "      <td>05/02/1998</td>\n",
       "    </tr>\n",
       "    <tr>\n",
       "      <th>1</th>\n",
       "      <td>28/03/2002</td>\n",
       "    </tr>\n",
       "    <tr>\n",
       "      <th>2</th>\n",
       "      <td>15/07/1991</td>\n",
       "    </tr>\n",
       "    <tr>\n",
       "      <th>3</th>\n",
       "      <td>08/11/2004</td>\n",
       "    </tr>\n",
       "    <tr>\n",
       "      <th>4</th>\n",
       "      <td>25/05/1994</td>\n",
       "    </tr>\n",
       "  </tbody>\n",
       "</table>\n",
       "</div>"
      ],
      "text/plain": [
       "         data\n",
       "0  05/02/1998\n",
       "1  28/03/2002\n",
       "2  15/07/1991\n",
       "3  08/11/2004\n",
       "4  25/05/1994"
      ]
     },
     "execution_count": 282,
     "metadata": {},
     "output_type": "execute_result"
    }
   ],
   "source": [
    "df_datas = pd.DataFrame()\n",
    "df_datas['data'] = df['Nascimento']\n",
    "df_datas.head()"
   ]
  },
  {
   "cell_type": "code",
   "execution_count": 283,
   "metadata": {},
   "outputs": [
    {
     "name": "stdout",
     "output_type": "stream",
     "text": [
      "Linhas com datas não convertíveis para datetime:\n",
      "    data       cargo\n",
      "102  NaT  Estagiário\n",
      "107  NaT     Diretor\n",
      "108  NaT     Diretor\n"
     ]
    },
    {
     "name": "stderr",
     "output_type": "stream",
     "text": [
      "C:\\Users\\Pichau\\AppData\\Local\\Temp\\ipykernel_19992\\1163797224.py:1: UserWarning: Parsing dates in DD/MM/YYYY format when dayfirst=False (the default) was specified. This may lead to inconsistently parsed dates! Specify a format to ensure consistent parsing.\n",
      "  df_datas['data'] = pd.to_datetime(df_datas['data'], errors='coerce')\n"
     ]
    },
    {
     "data": {
      "text/html": [
       "<div>\n",
       "<style scoped>\n",
       "    .dataframe tbody tr th:only-of-type {\n",
       "        vertical-align: middle;\n",
       "    }\n",
       "\n",
       "    .dataframe tbody tr th {\n",
       "        vertical-align: top;\n",
       "    }\n",
       "\n",
       "    .dataframe thead th {\n",
       "        text-align: right;\n",
       "    }\n",
       "</style>\n",
       "<table border=\"1\" class=\"dataframe\">\n",
       "  <thead>\n",
       "    <tr style=\"text-align: right;\">\n",
       "      <th></th>\n",
       "      <th>data</th>\n",
       "      <th>cargo</th>\n",
       "      <th>dia</th>\n",
       "      <th>mes</th>\n",
       "      <th>ano</th>\n",
       "      <th>idade</th>\n",
       "    </tr>\n",
       "  </thead>\n",
       "  <tbody>\n",
       "    <tr>\n",
       "      <th>0</th>\n",
       "      <td>1998-05-02</td>\n",
       "      <td>Assistente</td>\n",
       "      <td>2</td>\n",
       "      <td>5</td>\n",
       "      <td>1998</td>\n",
       "      <td>26</td>\n",
       "    </tr>\n",
       "    <tr>\n",
       "      <th>1</th>\n",
       "      <td>2002-03-28</td>\n",
       "      <td>Assistente</td>\n",
       "      <td>28</td>\n",
       "      <td>3</td>\n",
       "      <td>2002</td>\n",
       "      <td>22</td>\n",
       "    </tr>\n",
       "    <tr>\n",
       "      <th>2</th>\n",
       "      <td>1991-07-15</td>\n",
       "      <td>Estagiário</td>\n",
       "      <td>15</td>\n",
       "      <td>7</td>\n",
       "      <td>1991</td>\n",
       "      <td>33</td>\n",
       "    </tr>\n",
       "    <tr>\n",
       "      <th>3</th>\n",
       "      <td>2004-08-11</td>\n",
       "      <td>Gerente</td>\n",
       "      <td>11</td>\n",
       "      <td>8</td>\n",
       "      <td>2004</td>\n",
       "      <td>20</td>\n",
       "    </tr>\n",
       "    <tr>\n",
       "      <th>4</th>\n",
       "      <td>1994-05-25</td>\n",
       "      <td>Estagiário</td>\n",
       "      <td>25</td>\n",
       "      <td>5</td>\n",
       "      <td>1994</td>\n",
       "      <td>30</td>\n",
       "    </tr>\n",
       "  </tbody>\n",
       "</table>\n",
       "</div>"
      ],
      "text/plain": [
       "        data       cargo  dia  mes   ano  idade\n",
       "0 1998-05-02  Assistente    2    5  1998     26\n",
       "1 2002-03-28  Assistente   28    3  2002     22\n",
       "2 1991-07-15  Estagiário   15    7  1991     33\n",
       "3 2004-08-11     Gerente   11    8  2004     20\n",
       "4 1994-05-25  Estagiário   25    5  1994     30"
      ]
     },
     "execution_count": 283,
     "metadata": {},
     "output_type": "execute_result"
    }
   ],
   "source": [
    "df_datas['data'] = pd.to_datetime(df_datas['data'], errors='coerce')\n",
    "df_datas['cargo'] = df['Cargo']\n",
    "\n",
    "# Identificar as linhas onde a conversão resultou em NaT (entradas inválidas ou formatos inesperados)\n",
    "linhas_com_erro = df_datas[df_datas['data'].isna()]\n",
    "\n",
    "if not linhas_com_erro.empty:\n",
    "    print(\"Linhas com datas não convertíveis para datetime:\")\n",
    "    print(linhas_com_erro)\n",
    "\n",
    "# Para as linhas válidas, extração de dia, mês e ano, e cálculo da idade\n",
    "df_datas.dropna(subset=['data'], inplace=True)  # Opcional: remover linhas com NaT se desejar\n",
    "df_datas['dia'] = df_datas['data'].dt.day\n",
    "df_datas['mes'] = df_datas['data'].dt.month\n",
    "df_datas['ano'] = df_datas['data'].dt.year\n",
    "df_datas['idade'] = 2024 - df_datas['ano']\n",
    "\n",
    "df_datas.head()\n"
   ]
  },
  {
   "cell_type": "code",
   "execution_count": 284,
   "metadata": {},
   "outputs": [
    {
     "data": {
      "text/html": [
       "<div>\n",
       "<style scoped>\n",
       "    .dataframe tbody tr th:only-of-type {\n",
       "        vertical-align: middle;\n",
       "    }\n",
       "\n",
       "    .dataframe tbody tr th {\n",
       "        vertical-align: top;\n",
       "    }\n",
       "\n",
       "    .dataframe thead th {\n",
       "        text-align: right;\n",
       "    }\n",
       "</style>\n",
       "<table border=\"1\" class=\"dataframe\">\n",
       "  <thead>\n",
       "    <tr style=\"text-align: right;\">\n",
       "      <th></th>\n",
       "      <th>Nome</th>\n",
       "      <th>Nascimento</th>\n",
       "      <th>Salário</th>\n",
       "      <th>Cargo</th>\n",
       "    </tr>\n",
       "  </thead>\n",
       "  <tbody>\n",
       "    <tr>\n",
       "      <th>102</th>\n",
       "      <td>JÚLIO MASSI</td>\n",
       "      <td>NaN</td>\n",
       "      <td>1000.000000</td>\n",
       "      <td>Estagiário</td>\n",
       "    </tr>\n",
       "    <tr>\n",
       "      <th>103</th>\n",
       "      <td>MAYCON CRUZ</td>\n",
       "      <td>21/04/1999</td>\n",
       "      <td>1000.000000</td>\n",
       "      <td>Estagiário</td>\n",
       "    </tr>\n",
       "    <tr>\n",
       "      <th>104</th>\n",
       "      <td>FILIPE CRUZ</td>\n",
       "      <td>01/08/2001</td>\n",
       "      <td>7484.724138</td>\n",
       "      <td>Gerente</td>\n",
       "    </tr>\n",
       "    <tr>\n",
       "      <th>105</th>\n",
       "      <td>PEDRO NÁPOLES</td>\n",
       "      <td>05/13/1990</td>\n",
       "      <td>1000.000000</td>\n",
       "      <td>Gerente</td>\n",
       "    </tr>\n",
       "    <tr>\n",
       "      <th>106</th>\n",
       "      <td>OTÁVIO SOARES</td>\n",
       "      <td>05/11/1790</td>\n",
       "      <td>1000.000000</td>\n",
       "      <td>Assistente</td>\n",
       "    </tr>\n",
       "    <tr>\n",
       "      <th>107</th>\n",
       "      <td>VICTOR RODRIGUES</td>\n",
       "      <td>05/11/2990</td>\n",
       "      <td>40000.000000</td>\n",
       "      <td>Diretor</td>\n",
       "    </tr>\n",
       "    <tr>\n",
       "      <th>108</th>\n",
       "      <td>VANESSA OLIVEIRA</td>\n",
       "      <td>105/11/1990</td>\n",
       "      <td>-5000.000000</td>\n",
       "      <td>Diretor</td>\n",
       "    </tr>\n",
       "  </tbody>\n",
       "</table>\n",
       "</div>"
      ],
      "text/plain": [
       "                 Nome   Nascimento       Salário       Cargo\n",
       "102       JÚLIO MASSI          NaN   1000.000000  Estagiário\n",
       "103       MAYCON CRUZ   21/04/1999   1000.000000  Estagiário\n",
       "104       FILIPE CRUZ   01/08/2001   7484.724138     Gerente\n",
       "105     PEDRO NÁPOLES   05/13/1990   1000.000000     Gerente\n",
       "106     OTÁVIO SOARES   05/11/1790   1000.000000  Assistente\n",
       "107  VICTOR RODRIGUES   05/11/2990  40000.000000     Diretor\n",
       "108  VANESSA OLIVEIRA  105/11/1990  -5000.000000     Diretor"
      ]
     },
     "execution_count": 284,
     "metadata": {},
     "output_type": "execute_result"
    }
   ],
   "source": [
    "df[101:108]"
   ]
  },
  {
   "cell_type": "code",
   "execution_count": 285,
   "metadata": {},
   "outputs": [
    {
     "name": "stdout",
     "output_type": "stream",
     "text": [
      "cargo\n",
      "Analista      24.0\n",
      "Assistente    27.0\n",
      "Diretor       29.0\n",
      "Estagiário    28.0\n",
      "Gerente       27.5\n",
      "Name: idade, dtype: float64\n"
     ]
    }
   ],
   "source": [
    "#imprimir a média de idade por cargo\n",
    "print(df_datas.groupby('cargo')['idade'].median())"
   ]
  },
  {
   "cell_type": "code",
   "execution_count": 286,
   "metadata": {},
   "outputs": [
    {
     "data": {
      "text/plain": [
       "<AxesSubplot:>"
      ]
     },
     "execution_count": 286,
     "metadata": {},
     "output_type": "execute_result"
    },
    {
     "data": {
      "image/png": "[encoded data removed]",
      "text/plain": [
       "<Figure size 432x288 with 1 Axes>"
      ]
     },
     "metadata": {
      "needs_background": "light"
     },
     "output_type": "display_data"
    }
   ],
   "source": [
    "df_datas.boxplot(column='idade')"
   ]
  },
  {
   "cell_type": "code",
   "execution_count": 287,
   "metadata": {},
   "outputs": [
    {
     "name": "stdout",
     "output_type": "stream",
     "text": [
      "          data       cargo  dia  mes   ano  idade\n",
      "106 1790-05-11  Assistente   11    5  1790    234\n"
     ]
    }
   ],
   "source": [
    "#Identificando onde está o outlier\n",
    "print(df_datas[df_datas['idade'] > 100])"
   ]
  },
  {
   "cell_type": "code",
   "execution_count": 288,
   "metadata": {},
   "outputs": [
    {
     "data": {
      "text/html": [
       "<div>\n",
       "<style scoped>\n",
       "    .dataframe tbody tr th:only-of-type {\n",
       "        vertical-align: middle;\n",
       "    }\n",
       "\n",
       "    .dataframe tbody tr th {\n",
       "        vertical-align: top;\n",
       "    }\n",
       "\n",
       "    .dataframe thead th {\n",
       "        text-align: right;\n",
       "    }\n",
       "</style>\n",
       "<table border=\"1\" class=\"dataframe\">\n",
       "  <thead>\n",
       "    <tr style=\"text-align: right;\">\n",
       "      <th></th>\n",
       "      <th>Nome</th>\n",
       "      <th>Nascimento</th>\n",
       "      <th>Salário</th>\n",
       "      <th>Cargo</th>\n",
       "    </tr>\n",
       "  </thead>\n",
       "  <tbody>\n",
       "    <tr>\n",
       "      <th>102</th>\n",
       "      <td>JÚLIO MASSI</td>\n",
       "      <td>01/01/1996</td>\n",
       "      <td>1000.000000</td>\n",
       "      <td>Estagiário</td>\n",
       "    </tr>\n",
       "    <tr>\n",
       "      <th>103</th>\n",
       "      <td>MAYCON CRUZ</td>\n",
       "      <td>21/04/1999</td>\n",
       "      <td>1000.000000</td>\n",
       "      <td>Estagiário</td>\n",
       "    </tr>\n",
       "    <tr>\n",
       "      <th>104</th>\n",
       "      <td>FILIPE CRUZ</td>\n",
       "      <td>01/08/2001</td>\n",
       "      <td>7484.724138</td>\n",
       "      <td>Gerente</td>\n",
       "    </tr>\n",
       "    <tr>\n",
       "      <th>105</th>\n",
       "      <td>PEDRO NÁPOLES</td>\n",
       "      <td>05/13/1990</td>\n",
       "      <td>1000.000000</td>\n",
       "      <td>Gerente</td>\n",
       "    </tr>\n",
       "    <tr>\n",
       "      <th>106</th>\n",
       "      <td>OTÁVIO SOARES</td>\n",
       "      <td>01/01/1997</td>\n",
       "      <td>1000.000000</td>\n",
       "      <td>Assistente</td>\n",
       "    </tr>\n",
       "    <tr>\n",
       "      <th>107</th>\n",
       "      <td>VICTOR RODRIGUES</td>\n",
       "      <td>01/01/1995</td>\n",
       "      <td>40000.000000</td>\n",
       "      <td>Diretor</td>\n",
       "    </tr>\n",
       "    <tr>\n",
       "      <th>108</th>\n",
       "      <td>VANESSA OLIVEIRA</td>\n",
       "      <td>01/01/1995</td>\n",
       "      <td>-5000.000000</td>\n",
       "      <td>Diretor</td>\n",
       "    </tr>\n",
       "  </tbody>\n",
       "</table>\n",
       "</div>"
      ],
      "text/plain": [
       "                 Nome  Nascimento       Salário       Cargo\n",
       "102       JÚLIO MASSI  01/01/1996   1000.000000  Estagiário\n",
       "103       MAYCON CRUZ  21/04/1999   1000.000000  Estagiário\n",
       "104       FILIPE CRUZ  01/08/2001   7484.724138     Gerente\n",
       "105     PEDRO NÁPOLES  05/13/1990   1000.000000     Gerente\n",
       "106     OTÁVIO SOARES  01/01/1997   1000.000000  Assistente\n",
       "107  VICTOR RODRIGUES  01/01/1995  40000.000000     Diretor\n",
       "108  VANESSA OLIVEIRA  01/01/1995  -5000.000000     Diretor"
      ]
     },
     "execution_count": 288,
     "metadata": {},
     "output_type": "execute_result"
    }
   ],
   "source": [
    "# 102,106,107,108 São linhas com erros de data, podemos preencher com a mediana por cargo\n",
    "media_diretor = 29\n",
    "media_assistente = 27\n",
    "media_estagiario = 28\n",
    "nascimento_diretor = '01/01/1995'\n",
    "nascimento_assistente = '01/01/1997'\n",
    "nascimento_estagiario = '01/01/1996'\n",
    "df.loc[102, 'Nascimento'] = nascimento_estagiario\n",
    "df.loc[106, 'Nascimento'] = nascimento_assistente\n",
    "df.loc[107, 'Nascimento'] = nascimento_diretor\n",
    "df.loc[108, 'Nascimento'] = nascimento_diretor\n",
    "\n",
    "df[101:108]"
   ]
  },
  {
   "cell_type": "code",
   "execution_count": 289,
   "metadata": {},
   "outputs": [
    {
     "data": {
      "text/plain": [
       "<AxesSubplot:title={'center':'Salário'}, xlabel='Cargo'>"
      ]
     },
     "execution_count": 289,
     "metadata": {},
     "output_type": "execute_result"
    },
    {
     "data": {
      "image/png": "[encoded data removed]",
      "text/plain": [
       "<Figure size 432x288 with 1 Axes>"
      ]
     },
     "metadata": {
      "needs_background": "light"
     },
     "output_type": "display_data"
    }
   ],
   "source": [
    "df.boxplot(column='Salário', by='Cargo')"
   ]
  },
  {
   "cell_type": "code",
   "execution_count": 290,
   "metadata": {},
   "outputs": [
    {
     "name": "stdout",
     "output_type": "stream",
     "text": [
      "                 Nome  Nascimento  Salário    Cargo\n",
      "108  VANESSA OLIVEIRA  01/01/1995  -5000.0  Diretor\n"
     ]
    }
   ],
   "source": [
    "#Identificando salário negativo\n",
    "print(df[df['Salário'] < 0])"
   ]
  },
  {
   "cell_type": "code",
   "execution_count": 291,
   "metadata": {},
   "outputs": [
    {
     "name": "stderr",
     "output_type": "stream",
     "text": [
      "C:\\Users\\Pichau\\AppData\\Local\\Temp\\ipykernel_19992\\3488311384.py:3: FutureWarning: The default value of numeric_only in DataFrameGroupBy.median is deprecated. In a future version, numeric_only will default to False. Either specify numeric_only or select only columns which should be valid for the function.\n",
      "  mediana_Diretor = df.groupby('Cargo').median().at['Diretor', 'Salário']\n"
     ]
    }
   ],
   "source": [
    "# 109 é um erro de digitação, vamos preencher com a mediana do cargo\n",
    "# Mediana de salários por cargo\n",
    "mediana_Diretor = df.groupby('Cargo').median().at['Diretor', 'Salário']\n",
    "df.loc[108, 'Salário'] = mediana_Diretor"
   ]
  },
  {
   "cell_type": "code",
   "execution_count": 292,
   "metadata": {},
   "outputs": [
    {
     "data": {
      "text/html": [
       "<div>\n",
       "<style scoped>\n",
       "    .dataframe tbody tr th:only-of-type {\n",
       "        vertical-align: middle;\n",
       "    }\n",
       "\n",
       "    .dataframe tbody tr th {\n",
       "        vertical-align: top;\n",
       "    }\n",
       "\n",
       "    .dataframe thead th {\n",
       "        text-align: right;\n",
       "    }\n",
       "</style>\n",
       "<table border=\"1\" class=\"dataframe\">\n",
       "  <thead>\n",
       "    <tr style=\"text-align: right;\">\n",
       "      <th></th>\n",
       "      <th>Nome</th>\n",
       "      <th>Nascimento</th>\n",
       "      <th>Salário</th>\n",
       "      <th>Cargo</th>\n",
       "    </tr>\n",
       "  </thead>\n",
       "  <tbody>\n",
       "    <tr>\n",
       "      <th>104</th>\n",
       "      <td>FILIPE CRUZ</td>\n",
       "      <td>01/08/2001</td>\n",
       "      <td>7484.724138</td>\n",
       "      <td>Gerente</td>\n",
       "    </tr>\n",
       "    <tr>\n",
       "      <th>105</th>\n",
       "      <td>PEDRO NÁPOLES</td>\n",
       "      <td>05/13/1990</td>\n",
       "      <td>1000.000000</td>\n",
       "      <td>Gerente</td>\n",
       "    </tr>\n",
       "    <tr>\n",
       "      <th>106</th>\n",
       "      <td>OTÁVIO SOARES</td>\n",
       "      <td>01/01/1997</td>\n",
       "      <td>1000.000000</td>\n",
       "      <td>Assistente</td>\n",
       "    </tr>\n",
       "    <tr>\n",
       "      <th>107</th>\n",
       "      <td>VICTOR RODRIGUES</td>\n",
       "      <td>01/01/1995</td>\n",
       "      <td>40000.000000</td>\n",
       "      <td>Diretor</td>\n",
       "    </tr>\n",
       "    <tr>\n",
       "      <th>108</th>\n",
       "      <td>VANESSA OLIVEIRA</td>\n",
       "      <td>01/01/1995</td>\n",
       "      <td>7194.000000</td>\n",
       "      <td>Diretor</td>\n",
       "    </tr>\n",
       "  </tbody>\n",
       "</table>\n",
       "</div>"
      ],
      "text/plain": [
       "                 Nome  Nascimento       Salário       Cargo\n",
       "104       FILIPE CRUZ  01/08/2001   7484.724138     Gerente\n",
       "105     PEDRO NÁPOLES  05/13/1990   1000.000000     Gerente\n",
       "106     OTÁVIO SOARES  01/01/1997   1000.000000  Assistente\n",
       "107  VICTOR RODRIGUES  01/01/1995  40000.000000     Diretor\n",
       "108  VANESSA OLIVEIRA  01/01/1995   7194.000000     Diretor"
      ]
     },
     "execution_count": 292,
     "metadata": {},
     "output_type": "execute_result"
    }
   ],
   "source": [
    "df.tail()"
   ]
  },
  {
   "cell_type": "code",
   "execution_count": 293,
   "metadata": {},
   "outputs": [],
   "source": [
    "# Salvando o dataframe limpo\n",
    "df.to_csv('../Data/Dados Sujos/clientesSujos.csv', index=False)"
   ]
  },
  {
   "cell_type": "code",
   "execution_count": 294,
   "metadata": {},
   "outputs": [
    {
     "data": {
      "text/html": [
       "<div>\n",
       "<style scoped>\n",
       "    .dataframe tbody tr th:only-of-type {\n",
       "        vertical-align: middle;\n",
       "    }\n",
       "\n",
       "    .dataframe tbody tr th {\n",
       "        vertical-align: top;\n",
       "    }\n",
       "\n",
       "    .dataframe thead th {\n",
       "        text-align: right;\n",
       "    }\n",
       "</style>\n",
       "<table border=\"1\" class=\"dataframe\">\n",
       "  <thead>\n",
       "    <tr style=\"text-align: right;\">\n",
       "      <th></th>\n",
       "      <th>Nome</th>\n",
       "      <th>Nascimento</th>\n",
       "      <th>Salário</th>\n",
       "      <th>Cargo</th>\n",
       "    </tr>\n",
       "  </thead>\n",
       "  <tbody>\n",
       "    <tr>\n",
       "      <th>0</th>\n",
       "      <td>FILIPE COSTA</td>\n",
       "      <td>05/02/1998</td>\n",
       "      <td>3732.0</td>\n",
       "      <td>1</td>\n",
       "    </tr>\n",
       "    <tr>\n",
       "      <th>1</th>\n",
       "      <td>VICTOR CRUZ</td>\n",
       "      <td>28/03/2002</td>\n",
       "      <td>11799.0</td>\n",
       "      <td>1</td>\n",
       "    </tr>\n",
       "    <tr>\n",
       "      <th>2</th>\n",
       "      <td>OTÁVIO SILVA</td>\n",
       "      <td>15/07/1991</td>\n",
       "      <td>1000.0</td>\n",
       "      <td>3</td>\n",
       "    </tr>\n",
       "    <tr>\n",
       "      <th>3</th>\n",
       "      <td>JOÃO CRUZ</td>\n",
       "      <td>08/11/2004</td>\n",
       "      <td>4264.0</td>\n",
       "      <td>4</td>\n",
       "    </tr>\n",
       "    <tr>\n",
       "      <th>4</th>\n",
       "      <td>GUSTAVO NETO</td>\n",
       "      <td>25/05/1994</td>\n",
       "      <td>1000.0</td>\n",
       "      <td>3</td>\n",
       "    </tr>\n",
       "  </tbody>\n",
       "</table>\n",
       "</div>"
      ],
      "text/plain": [
       "           Nome  Nascimento  Salário  Cargo\n",
       "0  FILIPE COSTA  05/02/1998   3732.0      1\n",
       "1   VICTOR CRUZ  28/03/2002  11799.0      1\n",
       "2  OTÁVIO SILVA  15/07/1991   1000.0      3\n",
       "3     JOÃO CRUZ  08/11/2004   4264.0      4\n",
       "4  GUSTAVO NETO  25/05/1994   1000.0      3"
      ]
     },
     "execution_count": 294,
     "metadata": {},
     "output_type": "execute_result"
    }
   ],
   "source": [
    "# Transformando cargos em numéricos\n",
    "df['Cargo'] = df['Cargo'].astype('category').cat.codes\n",
    "df.head()"
   ]
  },
  {
   "cell_type": "code",
   "execution_count": 295,
   "metadata": {},
   "outputs": [],
   "source": [
    "# "
   ]
  }
 ],
 "metadata": {
  "kernelspec": {
   "display_name": "Python 3",
   "language": "python",
   "name": "python3"
  },
  "language_info": {
   "codemirror_mode": {
    "name": "ipython",
    "version": 3
   },
   "file_extension": ".py",
   "mimetype": "text/x-python",
   "name": "python",
   "nbconvert_exporter": "python",
   "pygments_lexer": "ipython3",
   "version": "3.10.4"
  }
 },
 "nbformat": 4,
 "nbformat_minor": 2
}
