{
 "cells": [
  {
   "cell_type": "code",
   "execution_count": 2,
   "metadata": {},
   "outputs": [],
   "source": [
    "import pandas as pd\n",
    "import numpy as np"
   ]
  },
  {
   "cell_type": "code",
   "execution_count": 3,
   "metadata": {},
   "outputs": [],
   "source": [
    "# Definindo a semente para reprodutibilidade\n",
    "np.random.seed(42)\n",
    "\n",
    "# Número de linhas\n",
    "n_linhas = 1000\n",
    "\n",
    "# Gerando dados sintéticos\n",
    "data = {\n",
    "    'Area': np.random.randint(30, 300, n_linhas),\n",
    "    'Quartos': np.random.randint(1, 6, n_linhas),\n",
    "    'Banheiros': np.random.randint(1, 5, n_linhas),\n",
    "    'Vagas': np.random.randint(0, 4, n_linhas),\n",
    "    'Bairro': np.random.choice(['Centro', 'Dornelas', 'Barra', 'Porto', 'Aeroporto'], n_linhas)\n",
    "}"
   ]
  },
  {
   "cell_type": "code",
   "execution_count": 4,
   "metadata": {},
   "outputs": [],
   "source": [
    "# DataFrame sem ruido\n",
    "df_sem_ruido = pd.DataFrame(data)\n",
    "base_price = 800\n",
    "df_sem_ruido['Preco'] = (base_price +\n",
    "                         df_sem_ruido['Area'] * 20 + \n",
    "                         df_sem_ruido['Quartos'] * 250 +\n",
    "                         df_sem_ruido['Banheiros'] * 200 +\n",
    "                         df_sem_ruido['Vagas'] * 150 +\n",
    "                         df_sem_ruido['Bairro'].map({'Centro': 300, 'Dornelas': 200, 'Barra': 100, 'Porto': 50, 'Aeroporto': 0}))\n",
    "\n",
    "# DataFrame com ruido\n",
    "df_com_ruido = pd.DataFrame(data)\n",
    "ruido = np.random.normal(0, 250, n_linhas)  # Média 0, Desvio padrão 250\n",
    "df_com_ruido['Preco'] = (base_price +\n",
    "                         df_com_ruido['Area'] * 20 + \n",
    "                         df_com_ruido['Quartos'] * 250 +\n",
    "                         df_com_ruido['Banheiros'] * 200 +\n",
    "                         df_com_ruido['Vagas'] * 150 +\n",
    "                         df_com_ruido['Bairro'].map({'Centro': 300, 'Dornelas': 200, 'Barra': 100, 'Porto': 50, 'Aeroporto': 0})\n",
    "                         + ruido)  # Adicionando ruido"
   ]
  },
  {
   "cell_type": "code",
   "execution_count": 7,
   "metadata": {},
   "outputs": [
    {
     "name": "stdout",
     "output_type": "stream",
     "text": [
      "Dataset sem ruído:\n",
      "\n",
      "Dataset com ruído:\n"
     ]
    },
    {
     "data": {
      "text/html": [
       "<div>\n",
       "<style scoped>\n",
       "    .dataframe tbody tr th:only-of-type {\n",
       "        vertical-align: middle;\n",
       "    }\n",
       "\n",
       "    .dataframe tbody tr th {\n",
       "        vertical-align: top;\n",
       "    }\n",
       "\n",
       "    .dataframe thead th {\n",
       "        text-align: right;\n",
       "    }\n",
       "</style>\n",
       "<table border=\"1\" class=\"dataframe\">\n",
       "  <thead>\n",
       "    <tr style=\"text-align: right;\">\n",
       "      <th></th>\n",
       "      <th>Area</th>\n",
       "      <th>Quartos</th>\n",
       "      <th>Banheiros</th>\n",
       "      <th>Vagas</th>\n",
       "      <th>Bairro</th>\n",
       "      <th>Preco</th>\n",
       "    </tr>\n",
       "  </thead>\n",
       "  <tbody>\n",
       "    <tr>\n",
       "      <th>0</th>\n",
       "      <td>132</td>\n",
       "      <td>2</td>\n",
       "      <td>2</td>\n",
       "      <td>3</td>\n",
       "      <td>Centro</td>\n",
       "      <td>5038.535142</td>\n",
       "    </tr>\n",
       "    <tr>\n",
       "      <th>1</th>\n",
       "      <td>136</td>\n",
       "      <td>5</td>\n",
       "      <td>2</td>\n",
       "      <td>0</td>\n",
       "      <td>Aeroporto</td>\n",
       "      <td>4983.355413</td>\n",
       "    </tr>\n",
       "    <tr>\n",
       "      <th>2</th>\n",
       "      <td>101</td>\n",
       "      <td>3</td>\n",
       "      <td>3</td>\n",
       "      <td>1</td>\n",
       "      <td>Barra</td>\n",
       "      <td>4375.806459</td>\n",
       "    </tr>\n",
       "    <tr>\n",
       "      <th>3</th>\n",
       "      <td>218</td>\n",
       "      <td>1</td>\n",
       "      <td>3</td>\n",
       "      <td>0</td>\n",
       "      <td>Porto</td>\n",
       "      <td>5672.845425</td>\n",
       "    </tr>\n",
       "    <tr>\n",
       "      <th>4</th>\n",
       "      <td>50</td>\n",
       "      <td>3</td>\n",
       "      <td>4</td>\n",
       "      <td>3</td>\n",
       "      <td>Barra</td>\n",
       "      <td>3777.211563</td>\n",
       "    </tr>\n",
       "  </tbody>\n",
       "</table>\n",
       "</div>"
      ],
      "text/plain": [
       "   Area  Quartos  Banheiros  Vagas     Bairro        Preco\n",
       "0   132        2          2      3     Centro  5038.535142\n",
       "1   136        5          2      0  Aeroporto  4983.355413\n",
       "2   101        3          3      1      Barra  4375.806459\n",
       "3   218        1          3      0      Porto  5672.845425\n",
       "4    50        3          4      3      Barra  3777.211563"
      ]
     },
     "execution_count": 7,
     "metadata": {},
     "output_type": "execute_result"
    }
   ],
   "source": [
    "print(\"Dataset sem ruído:\")\n",
    "df_sem_ruido.head()\n",
    "print(\"\\nDataset com ruído:\")\n",
    "df_com_ruido.head()"
   ]
  },
  {
   "cell_type": "code",
   "execution_count": 5,
   "metadata": {},
   "outputs": [],
   "source": [
    "# Salvando os datasets em arquivos CSV de nome 'aluguel_completo_sem_ruido.csv' e 'aluguel_completo_com_ruido.csv'\n",
    "df_sem_ruido.to_csv('aluguel_completo_sem_ruido.csv', index=False)\n",
    "df_com_ruido.to_csv('aluguel_completo_com_ruido.csv', index=False)"
   ]
  },
  {
   "cell_type": "code",
   "execution_count": null,
   "metadata": {},
   "outputs": [],
   "source": []
  }
 ],
 "metadata": {
  "kernelspec": {
   "display_name": "Python 3",
   "language": "python",
   "name": "python3"
  },
  "language_info": {
   "codemirror_mode": {
    "name": "ipython",
    "version": 3
   },
   "file_extension": ".py",
   "mimetype": "text/x-python",
   "name": "python",
   "nbconvert_exporter": "python",
   "pygments_lexer": "ipython3",
   "version": "3.10.4"
  }
 },
 "nbformat": 4,
 "nbformat_minor": 2
}
