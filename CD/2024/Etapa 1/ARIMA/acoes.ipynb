{
 "cells": [
  {
   "cell_type": "code",
   "execution_count": 3,
   "metadata": {},
   "outputs": [
    {
     "name": "stdout",
     "output_type": "stream",
     "text": [
      "             Data   Codigo  Preco_Abertura  Preco_Fechamento\n",
      "323      20230102  02VALE3          8868.0            8853.0\n",
      "1766     20230103  02VALE3          8940.0            8889.0\n",
      "3238     20230104  02VALE3          8930.0            8794.0\n",
      "4857     20230105  02VALE3          8946.0            8900.0\n",
      "6808     20230106  02VALE3          9100.0            9100.0\n",
      "...           ...      ...             ...               ...\n",
      "1344865  20231221  02VALE3          7545.0            7532.0\n",
      "1346459  20231222  02VALE3          7713.0            7629.0\n",
      "1347990  20231226  02VALE3          7716.0            7666.0\n",
      "1349769  20231227  02VALE3          7685.0            7685.0\n",
      "1351638  20231228  02VALE3          7700.0            7675.0\n",
      "\n",
      "[248 rows x 4 columns]\n"
     ]
    }
   ],
   "source": [
    "import pandas as pd\n",
    "\n",
    "# Define os nomes das colunas e as larguras de cada campo\n",
    "colspecs = [(2, 10), (10, 22), (56, 69), (82, 95)]\n",
    "names = ['Data', 'Codigo', 'Preco_Abertura', 'Preco_Fechamento']\n",
    "\n",
    "# Carrega o arquivo\n",
    "df = pd.read_fwf('COTAHIST_A2023.TXT', colspecs=colspecs, names=names, header=None)\n",
    "\n",
    "# Filtra pela ação VALE3, garantindo que seja exatamente VALE3 (sem caracteres adicionais)\n",
    "vale3_df = df[df['Codigo'].str.endswith('VALE3')]\n",
    "\n",
    "print(vale3_df)\n"
   ]
  },
  {
   "cell_type": "code",
   "execution_count": 5,
   "metadata": {},
   "outputs": [
    {
     "name": "stdout",
     "output_type": "stream",
     "text": [
      "              Data   Codigo  Preco_Abertura  Preco_Fechamento   Ano  Mes  Dia\n",
      "323     2023-01-02  02VALE3          8868.0            8853.0  2023    1    2\n",
      "1766    2023-01-03  02VALE3          8940.0            8889.0  2023    1    3\n",
      "3238    2023-01-04  02VALE3          8930.0            8794.0  2023    1    4\n",
      "4857    2023-01-05  02VALE3          8946.0            8900.0  2023    1    5\n",
      "6808    2023-01-06  02VALE3          9100.0            9100.0  2023    1    6\n",
      "...            ...      ...             ...               ...   ...  ...  ...\n",
      "1344865 2023-12-21  02VALE3          7545.0            7532.0  2023   12   21\n",
      "1346459 2023-12-22  02VALE3          7713.0            7629.0  2023   12   22\n",
      "1347990 2023-12-26  02VALE3          7716.0            7666.0  2023   12   26\n",
      "1349769 2023-12-27  02VALE3          7685.0            7685.0  2023   12   27\n",
      "1351638 2023-12-28  02VALE3          7700.0            7675.0  2023   12   28\n",
      "\n",
      "[248 rows x 7 columns]\n"
     ]
    },
    {
     "name": "stderr",
     "output_type": "stream",
     "text": [
      "C:\\Users\\Pichau\\AppData\\Local\\Temp\\ipykernel_20508\\4247944211.py:6: SettingWithCopyWarning: \n",
      "A value is trying to be set on a copy of a slice from a DataFrame.\n",
      "Try using .loc[row_indexer,col_indexer] = value instead\n",
      "\n",
      "See the caveats in the documentation: https://pandas.pydata.org/pandas-docs/stable/user_guide/indexing.html#returning-a-view-versus-a-copy\n",
      "  vale3_df['Data'] = pd.to_datetime(vale3_df['Data'], format='%Y%m%d')\n",
      "C:\\Users\\Pichau\\AppData\\Local\\Temp\\ipykernel_20508\\4247944211.py:9: SettingWithCopyWarning: \n",
      "A value is trying to be set on a copy of a slice from a DataFrame.\n",
      "Try using .loc[row_indexer,col_indexer] = value instead\n",
      "\n",
      "See the caveats in the documentation: https://pandas.pydata.org/pandas-docs/stable/user_guide/indexing.html#returning-a-view-versus-a-copy\n",
      "  vale3_df['Ano'] = vale3_df['Data'].dt.year\n",
      "C:\\Users\\Pichau\\AppData\\Local\\Temp\\ipykernel_20508\\4247944211.py:10: SettingWithCopyWarning: \n",
      "A value is trying to be set on a copy of a slice from a DataFrame.\n",
      "Try using .loc[row_indexer,col_indexer] = value instead\n",
      "\n",
      "See the caveats in the documentation: https://pandas.pydata.org/pandas-docs/stable/user_guide/indexing.html#returning-a-view-versus-a-copy\n",
      "  vale3_df['Mes'] = vale3_df['Data'].dt.month\n",
      "C:\\Users\\Pichau\\AppData\\Local\\Temp\\ipykernel_20508\\4247944211.py:11: SettingWithCopyWarning: \n",
      "A value is trying to be set on a copy of a slice from a DataFrame.\n",
      "Try using .loc[row_indexer,col_indexer] = value instead\n",
      "\n",
      "See the caveats in the documentation: https://pandas.pydata.org/pandas-docs/stable/user_guide/indexing.html#returning-a-view-versus-a-copy\n",
      "  vale3_df['Dia'] = vale3_df['Data'].dt.day\n"
     ]
    }
   ],
   "source": [
    "import pandas as pd\n",
    "\n",
    "# Supondo que 'df' seja o seu DataFrame e 'Data' a coluna com as datas\n",
    "\n",
    "# Convertendo a coluna 'Data' para datetime\n",
    "vale3_df['Data'] = pd.to_datetime(vale3_df['Data'], format='%Y%m%d')\n",
    "\n",
    "# Extraindo ano, mês e dia\n",
    "vale3_df['Ano'] = vale3_df['Data'].dt.year\n",
    "vale3_df['Mes'] = vale3_df['Data'].dt.month\n",
    "vale3_df['Dia'] = vale3_df['Data'].dt.day\n",
    "\n",
    "print(vale3_df)\n"
   ]
  },
  {
   "cell_type": "code",
   "execution_count": null,
   "metadata": {},
   "outputs": [],
   "source": []
  }
 ],
 "metadata": {
  "kernelspec": {
   "display_name": "Python 3",
   "language": "python",
   "name": "python3"
  },
  "language_info": {
   "codemirror_mode": {
    "name": "ipython",
    "version": 3
   },
   "file_extension": ".py",
   "mimetype": "text/x-python",
   "name": "python",
   "nbconvert_exporter": "python",
   "pygments_lexer": "ipython3",
   "version": "3.10.4"
  }
 },
 "nbformat": 4,
 "nbformat_minor": 2
}
