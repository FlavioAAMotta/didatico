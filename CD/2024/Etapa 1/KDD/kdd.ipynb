{
 "cells": [
  {
   "cell_type": "code",
   "execution_count": 1,
   "metadata": {},
   "outputs": [
    {
     "name": "stderr",
     "output_type": "stream",
     "text": [
      "C:\\Users\\flavi\\AppData\\Local\\Temp\\ipykernel_31412\\1802185335.py:1: DeprecationWarning: \n",
      "Pyarrow will become a required dependency of pandas in the next major release of pandas (pandas 3.0),\n",
      "(to allow more performant data types, such as the Arrow string type, and better interoperability with other libraries)\n",
      "but was not found to be installed on your system.\n",
      "If this would cause problems for you,\n",
      "please provide us feedback at https://github.com/pandas-dev/pandas/issues/54466\n",
      "        \n",
      "  import pandas as pd\n"
     ]
    }
   ],
   "source": [
    "import pandas as pd\n",
    "import matplotlib.pyplot as plt\n",
    "from datetime import datetime\n",
    "\n"
   ]
  },
  {
   "cell_type": "code",
   "execution_count": 2,
   "metadata": {},
   "outputs": [
    {
     "data": {
      "text/html": [
       "<div>\n",
       "<style scoped>\n",
       "    .dataframe tbody tr th:only-of-type {\n",
       "        vertical-align: middle;\n",
       "    }\n",
       "\n",
       "    .dataframe tbody tr th {\n",
       "        vertical-align: top;\n",
       "    }\n",
       "\n",
       "    .dataframe thead th {\n",
       "        text-align: right;\n",
       "    }\n",
       "</style>\n",
       "<table border=\"1\" class=\"dataframe\">\n",
       "  <thead>\n",
       "    <tr style=\"text-align: right;\">\n",
       "      <th></th>\n",
       "      <th>id</th>\n",
       "      <th>data</th>\n",
       "      <th>hora</th>\n",
       "      <th>cliente</th>\n",
       "      <th>produto</th>\n",
       "      <th>valor_x</th>\n",
       "      <th>quantidade</th>\n",
       "      <th>total</th>\n",
       "      <th>status</th>\n",
       "      <th>cidade</th>\n",
       "      <th>...</th>\n",
       "      <th>cor</th>\n",
       "      <th>tamanho</th>\n",
       "      <th>peso</th>\n",
       "      <th>altura</th>\n",
       "      <th>largura</th>\n",
       "      <th>comprimento</th>\n",
       "      <th>categoria_y</th>\n",
       "      <th>valor_y</th>\n",
       "      <th>categoria</th>\n",
       "      <th>valor</th>\n",
       "    </tr>\n",
       "  </thead>\n",
       "  <tbody>\n",
       "    <tr>\n",
       "      <th>0</th>\n",
       "      <td>1</td>\n",
       "      <td>2017-09-20</td>\n",
       "      <td>08:12:57</td>\n",
       "      <td>Filipe Cruz</td>\n",
       "      <td>Isotônico Coca-Cola</td>\n",
       "      <td>96.87</td>\n",
       "      <td>7</td>\n",
       "      <td>38.092982</td>\n",
       "      <td>em separação</td>\n",
       "      <td>Cidade</td>\n",
       "      <td>...</td>\n",
       "      <td>NaN</td>\n",
       "      <td></td>\n",
       "      <td>83.75</td>\n",
       "      <td>12.89</td>\n",
       "      <td>35.11</td>\n",
       "      <td>56.99</td>\n",
       "      <td>bebidas</td>\n",
       "      <td>5.441855</td>\n",
       "      <td>bebidas</td>\n",
       "      <td>5.441855</td>\n",
       "    </tr>\n",
       "    <tr>\n",
       "      <th>1</th>\n",
       "      <td>2</td>\n",
       "      <td>2019-07-17</td>\n",
       "      <td>18:26:47</td>\n",
       "      <td>Daniel Silva</td>\n",
       "      <td>Lembrancinha Festa Box</td>\n",
       "      <td>92.21</td>\n",
       "      <td>7</td>\n",
       "      <td>123.142236</td>\n",
       "      <td>em trânsito</td>\n",
       "      <td>Cidade</td>\n",
       "      <td>...</td>\n",
       "      <td>NaN</td>\n",
       "      <td></td>\n",
       "      <td>60.02</td>\n",
       "      <td>54.85</td>\n",
       "      <td>15.35</td>\n",
       "      <td>41.05</td>\n",
       "      <td>artigos para festas</td>\n",
       "      <td>17.591748</td>\n",
       "      <td>artigos para festas</td>\n",
       "      <td>17.591748</td>\n",
       "    </tr>\n",
       "    <tr>\n",
       "      <th>2</th>\n",
       "      <td>3</td>\n",
       "      <td>2018-01-20</td>\n",
       "      <td>15:55:07</td>\n",
       "      <td>Victor Silva</td>\n",
       "      <td>Convite Piffer</td>\n",
       "      <td>170.19</td>\n",
       "      <td>5</td>\n",
       "      <td>37.268889</td>\n",
       "      <td>cancelado</td>\n",
       "      <td>Cidade</td>\n",
       "      <td>...</td>\n",
       "      <td>NaN</td>\n",
       "      <td></td>\n",
       "      <td>20.81</td>\n",
       "      <td>20.38</td>\n",
       "      <td>75.42</td>\n",
       "      <td>46.84</td>\n",
       "      <td>artigos para festas</td>\n",
       "      <td>7.453778</td>\n",
       "      <td>artigos para festas</td>\n",
       "      <td>7.453778</td>\n",
       "    </tr>\n",
       "    <tr>\n",
       "      <th>3</th>\n",
       "      <td>4</td>\n",
       "      <td>2016-06-21</td>\n",
       "      <td>11:36:07</td>\n",
       "      <td>Vanessa Rodrigues</td>\n",
       "      <td>Vinho Heineken</td>\n",
       "      <td>151.80</td>\n",
       "      <td>10</td>\n",
       "      <td>15.517708</td>\n",
       "      <td>entregue</td>\n",
       "      <td>Cidade</td>\n",
       "      <td>...</td>\n",
       "      <td>NaN</td>\n",
       "      <td></td>\n",
       "      <td>44.59</td>\n",
       "      <td>4.68</td>\n",
       "      <td>32.67</td>\n",
       "      <td>91.61</td>\n",
       "      <td>bebidas</td>\n",
       "      <td>1.551771</td>\n",
       "      <td>bebidas</td>\n",
       "      <td>1.551771</td>\n",
       "    </tr>\n",
       "    <tr>\n",
       "      <th>4</th>\n",
       "      <td>5</td>\n",
       "      <td>2015-05-01</td>\n",
       "      <td>18:08:24</td>\n",
       "      <td>Luiz Bandeira</td>\n",
       "      <td>Chinelo Fila</td>\n",
       "      <td>82.24</td>\n",
       "      <td>7</td>\n",
       "      <td>326.226314</td>\n",
       "      <td>em separação</td>\n",
       "      <td>Cidade</td>\n",
       "      <td>...</td>\n",
       "      <td>amarelo</td>\n",
       "      <td></td>\n",
       "      <td>92.52</td>\n",
       "      <td>57.52</td>\n",
       "      <td>33.77</td>\n",
       "      <td>49.21</td>\n",
       "      <td>calçados</td>\n",
       "      <td>46.603759</td>\n",
       "      <td>calçados</td>\n",
       "      <td>46.603759</td>\n",
       "    </tr>\n",
       "  </tbody>\n",
       "</table>\n",
       "<p>5 rows × 29 columns</p>\n",
       "</div>"
      ],
      "text/plain": [
       "   id        data      hora            cliente                 produto  \\\n",
       "0   1  2017-09-20  08:12:57        Filipe Cruz     Isotônico Coca-Cola   \n",
       "1   2  2019-07-17  18:26:47       Daniel Silva  Lembrancinha Festa Box   \n",
       "2   3  2018-01-20  15:55:07       Victor Silva          Convite Piffer   \n",
       "3   4  2016-06-21  11:36:07  Vanessa Rodrigues          Vinho Heineken   \n",
       "4   5  2015-05-01  18:08:24      Luiz Bandeira            Chinelo Fila   \n",
       "\n",
       "   valor_x  quantidade       total        status  cidade  ...      cor  \\\n",
       "0    96.87           7   38.092982  em separação  Cidade  ...      NaN   \n",
       "1    92.21           7  123.142236   em trânsito  Cidade  ...      NaN   \n",
       "2   170.19           5   37.268889     cancelado  Cidade  ...      NaN   \n",
       "3   151.80          10   15.517708      entregue  Cidade  ...      NaN   \n",
       "4    82.24           7  326.226314  em separação  Cidade  ...  amarelo   \n",
       "\n",
       "  tamanho   peso  altura largura comprimento          categoria_y    valor_y  \\\n",
       "0          83.75   12.89   35.11       56.99              bebidas   5.441855   \n",
       "1          60.02   54.85   15.35       41.05  artigos para festas  17.591748   \n",
       "2          20.81   20.38   75.42       46.84  artigos para festas   7.453778   \n",
       "3          44.59    4.68   32.67       91.61              bebidas   1.551771   \n",
       "4          92.52   57.52   33.77       49.21             calçados  46.603759   \n",
       "\n",
       "             categoria      valor  \n",
       "0              bebidas   5.441855  \n",
       "1  artigos para festas  17.591748  \n",
       "2  artigos para festas   7.453778  \n",
       "3              bebidas   1.551771  \n",
       "4             calçados  46.603759  \n",
       "\n",
       "[5 rows x 29 columns]"
      ]
     },
     "execution_count": 2,
     "metadata": {},
     "output_type": "execute_result"
    }
   ],
   "source": [
    "df = pd.read_csv('../Data/Compras/dados_sinteticos_com_erros.csv')\n",
    "df.head()"
   ]
  },
  {
   "cell_type": "code",
   "execution_count": null,
   "metadata": {},
   "outputs": [],
   "source": [
    "df = pd.read_csv('../Data/Dados Sujos/clientesSujos.csv')"
   ]
  },
  {
   "cell_type": "code",
   "execution_count": 124,
   "metadata": {},
   "outputs": [
    {
     "data": {
      "text/html": [
       "<div>\n",
       "<style scoped>\n",
       "    .dataframe tbody tr th:only-of-type {\n",
       "        vertical-align: middle;\n",
       "    }\n",
       "\n",
       "    .dataframe tbody tr th {\n",
       "        vertical-align: top;\n",
       "    }\n",
       "\n",
       "    .dataframe thead th {\n",
       "        text-align: right;\n",
       "    }\n",
       "</style>\n",
       "<table border=\"1\" class=\"dataframe\">\n",
       "  <thead>\n",
       "    <tr style=\"text-align: right;\">\n",
       "      <th></th>\n",
       "      <th>Nome</th>\n",
       "      <th>Nascimento</th>\n",
       "      <th>Salário</th>\n",
       "      <th>Cargo</th>\n",
       "    </tr>\n",
       "  </thead>\n",
       "  <tbody>\n",
       "    <tr>\n",
       "      <th>0</th>\n",
       "      <td>FILIPE COSTA</td>\n",
       "      <td>05/02/1998</td>\n",
       "      <td>3732.0</td>\n",
       "      <td>Assistente</td>\n",
       "    </tr>\n",
       "    <tr>\n",
       "      <th>1</th>\n",
       "      <td>VICTOR CRUZ</td>\n",
       "      <td>28/03/2002</td>\n",
       "      <td>11799.0</td>\n",
       "      <td>Assistente</td>\n",
       "    </tr>\n",
       "    <tr>\n",
       "      <th>2</th>\n",
       "      <td>OTÁVIO SILVA</td>\n",
       "      <td>15/07/1991</td>\n",
       "      <td>1000.0</td>\n",
       "      <td>Estagiário</td>\n",
       "    </tr>\n",
       "    <tr>\n",
       "      <th>3</th>\n",
       "      <td>JOÃO CRUZ</td>\n",
       "      <td>08/11/2004</td>\n",
       "      <td>4264.0</td>\n",
       "      <td>Gerente</td>\n",
       "    </tr>\n",
       "    <tr>\n",
       "      <th>4</th>\n",
       "      <td>GUSTAVO NETO</td>\n",
       "      <td>25/05/1994</td>\n",
       "      <td>1000.0</td>\n",
       "      <td>Estagiário</td>\n",
       "    </tr>\n",
       "  </tbody>\n",
       "</table>\n",
       "</div>"
      ],
      "text/plain": [
       "           Nome  Nascimento  Salário       Cargo\n",
       "0  FILIPE COSTA  05/02/1998   3732.0  Assistente\n",
       "1   VICTOR CRUZ  28/03/2002  11799.0  Assistente\n",
       "2  OTÁVIO SILVA  15/07/1991   1000.0  Estagiário\n",
       "3     JOÃO CRUZ  08/11/2004   4264.0     Gerente\n",
       "4  GUSTAVO NETO  25/05/1994   1000.0  Estagiário"
      ]
     },
     "execution_count": 124,
     "metadata": {},
     "output_type": "execute_result"
    }
   ],
   "source": [
    "df.head()"
   ]
  },
  {
   "cell_type": "code",
   "execution_count": 125,
   "metadata": {},
   "outputs": [
    {
     "data": {
      "image/png": "[encoded data removed]",
      "text/plain": [
       "<Figure size 640x480 with 1 Axes>"
      ]
     },
     "metadata": {},
     "output_type": "display_data"
    }
   ],
   "source": [
    "df.boxplot(column='Salário')\n",
    "plt.show()"
   ]
  },
  {
   "cell_type": "code",
   "execution_count": 126,
   "metadata": {},
   "outputs": [
    {
     "data": {
      "text/plain": [
       "Nome          1\n",
       "Nascimento    1\n",
       "Salário       2\n",
       "Cargo         0\n",
       "dtype: int64"
      ]
     },
     "execution_count": 126,
     "metadata": {},
     "output_type": "execute_result"
    }
   ],
   "source": [
    "# Descobrindo valores ausentes\n",
    "df.isnull().sum()"
   ]
  },
  {
   "cell_type": "code",
   "execution_count": 127,
   "metadata": {},
   "outputs": [
    {
     "name": "stdout",
     "output_type": "stream",
     "text": [
      "            Nome  Nascimento  Salário       Cargo\n",
      "101          NaN  05/08/1990   1000.0  Estagiário\n",
      "102  JÚLIO MASSI         NaN   1000.0  Estagiário\n",
      "103  MAYCON CRUZ  21/04/1999      NaN  Estagiário\n",
      "104  FILIPE CRUZ  01/08/2001      NaN     Gerente\n"
     ]
    }
   ],
   "source": [
    "# Imprimindo as linhas com valores ausentes\n",
    "print(df[df.isnull().any(axis=1)])"
   ]
  },
  {
   "cell_type": "code",
   "execution_count": 128,
   "metadata": {},
   "outputs": [
    {
     "name": "stdout",
     "output_type": "stream",
     "text": [
      "                 Salário\n",
      "Cargo                   \n",
      "Analista     6332.466667\n",
      "Asistente    1000.000000\n",
      "Assistente   8978.150000\n",
      "Direto      40000.000000\n",
      "Diretor      6928.000000\n",
      "Estagiário   1000.000000\n",
      "Gerente      7484.724138\n"
     ]
    },
    {
     "name": "stderr",
     "output_type": "stream",
     "text": [
      "C:\\Users\\flavi\\AppData\\Local\\Temp\\ipykernel_8664\\4001277629.py:1: DeprecationWarning: DataFrameGroupBy.apply operated on the grouping columns. This behavior is deprecated, and in a future version of pandas the grouping columns will be excluded from the operation. Either pass `include_groups=False` to exclude the groupings or explicitly select the grouping columns after groupby to silence this warning.\n",
      "  grouped_df = df.groupby('Cargo').apply(lambda x: x.select_dtypes(include=['number']).mean())\n"
     ]
    }
   ],
   "source": [
    "grouped_df = df.groupby('Cargo').apply(lambda x: x.select_dtypes(include=['number']).mean())\n",
    "print(grouped_df)"
   ]
  },
  {
   "cell_type": "code",
   "execution_count": 129,
   "metadata": {},
   "outputs": [
    {
     "name": "stdout",
     "output_type": "stream",
     "text": [
      "            Salário\n",
      "Cargo              \n",
      "Analista     5420.0\n",
      "Asistente    1000.0\n",
      "Assistente   9479.0\n",
      "Direto      40000.0\n",
      "Diretor      7172.0\n",
      "Estagiário   1000.0\n",
      "Gerente      6874.0\n"
     ]
    },
    {
     "name": "stderr",
     "output_type": "stream",
     "text": [
      "C:\\Users\\flavi\\AppData\\Local\\Temp\\ipykernel_8664\\2121088414.py:1: DeprecationWarning: DataFrameGroupBy.apply operated on the grouping columns. This behavior is deprecated, and in a future version of pandas the grouping columns will be excluded from the operation. Either pass `include_groups=False` to exclude the groupings or explicitly select the grouping columns after groupby to silence this warning.\n",
      "  grouped_df = df.groupby('Cargo').apply(lambda x: x.select_dtypes(include=['number']).median())\n"
     ]
    }
   ],
   "source": [
    "grouped_df = df.groupby('Cargo').apply(lambda x: x.select_dtypes(include=['number']).median())\n",
    "print(grouped_df)"
   ]
  },
  {
   "cell_type": "code",
   "execution_count": 130,
   "metadata": {},
   "outputs": [
    {
     "data": {
      "image/png": "[encoded data removed]",
      "text/plain": [
       "<Figure size 640x480 with 1 Axes>"
      ]
     },
     "metadata": {},
     "output_type": "display_data"
    }
   ],
   "source": [
    "# Boxplot de salários por cargo\n",
    "df.boxplot(column='Salário', by='Cargo')\n",
    "plt.show()"
   ]
  },
  {
   "cell_type": "code",
   "execution_count": 131,
   "metadata": {},
   "outputs": [],
   "source": [
    "# Preenchendo valores ausentes com a média dos salários dos cargos\n",
    "df['Salário'] = df['Salário'].fillna(df.groupby('Cargo')['Salário'].transform('mean'))"
   ]
  },
  {
   "cell_type": "code",
   "execution_count": 132,
   "metadata": {},
   "outputs": [
    {
     "name": "stdout",
     "output_type": "stream",
     "text": [
      "            Nome  Nascimento      Salário       Cargo\n",
      "102  JÚLIO MASSI         NaN  1000.000000  Estagiário\n",
      "103  MAYCON CRUZ  21/04/1999  1000.000000  Estagiário\n",
      "104  FILIPE CRUZ  01/08/2001  7484.724138     Gerente\n"
     ]
    }
   ],
   "source": [
    "# Imprimindo as linhas com valores ausentes\n",
    "print(df[102:105])"
   ]
  },
  {
   "cell_type": "code",
   "execution_count": 133,
   "metadata": {},
   "outputs": [
    {
     "name": "stdout",
     "output_type": "stream",
     "text": [
      "1\n",
      "               Nome  Nascimento  Salário     Cargo\n",
      "100  JÚLIO OLIVEIRA  25/01/1990  11959.0  Analista\n",
      "               Nome  Nascimento  Salário     Cargo\n",
      "99   JÚLIO OLIVEIRA  25/01/1990  11959.0  Analista\n",
      "100  JÚLIO OLIVEIRA  25/01/1990  11959.0  Analista\n"
     ]
    }
   ],
   "source": [
    "# Imprimindo quantidades de duplicados\n",
    "print(df.duplicated().sum())\n",
    "# Identificando duplicados\n",
    "print(df[df.duplicated()])\n",
    "# Imprimindo as linhas duplicadas\n",
    "print(df[df.duplicated(keep=False)])\n"
   ]
  },
  {
   "cell_type": "code",
   "execution_count": 134,
   "metadata": {},
   "outputs": [],
   "source": [
    "# Removendo duplicados\n",
    "df = df.drop_duplicates()"
   ]
  },
  {
   "cell_type": "code",
   "execution_count": 135,
   "metadata": {},
   "outputs": [
    {
     "name": "stdout",
     "output_type": "stream",
     "text": [
      "['Assistente' 'Estagiário' 'Gerente' 'Diretor' 'Analista' 'Asistente'\n",
      " 'Direto']\n"
     ]
    }
   ],
   "source": [
    "#Identificando erros de digitação\n",
    "print(df['Cargo'].unique())\n"
   ]
  },
  {
   "cell_type": "code",
   "execution_count": 136,
   "metadata": {},
   "outputs": [
    {
     "name": "stdout",
     "output_type": "stream",
     "text": [
      "['Assistente' 'Estagiário' 'Gerente' 'Diretor' 'Analista' 'Direto']\n"
     ]
    }
   ],
   "source": [
    "#Substituindo valores 'Direto' por 'Diretor' e \"Asistente\" por \"Assistente\"\n",
    "# df['Cargo'] = df['Cargo'].str.replace('Direto','Diretor')\n",
    "\n",
    "# Cuidado, a ocorrencia de 'Direto' tem que ser exata\n",
    "df['Cargo'] = df['Cargo'].str.replace(r'\\bDireto\\b','Diretor')\n",
    "df['Cargo'] = df['Cargo'].str.replace('Asistente','Assistente')\n",
    "print(df['Cargo'].unique())"
   ]
  },
  {
   "cell_type": "code",
   "execution_count": null,
   "metadata": {},
   "outputs": [],
   "source": []
  },
  {
   "cell_type": "code",
   "execution_count": 137,
   "metadata": {},
   "outputs": [
    {
     "data": {
      "text/html": [
       "<div>\n",
       "<style scoped>\n",
       "    .dataframe tbody tr th:only-of-type {\n",
       "        vertical-align: middle;\n",
       "    }\n",
       "\n",
       "    .dataframe tbody tr th {\n",
       "        vertical-align: top;\n",
       "    }\n",
       "\n",
       "    .dataframe thead th {\n",
       "        text-align: right;\n",
       "    }\n",
       "</style>\n",
       "<table border=\"1\" class=\"dataframe\">\n",
       "  <thead>\n",
       "    <tr style=\"text-align: right;\">\n",
       "      <th></th>\n",
       "      <th>data</th>\n",
       "    </tr>\n",
       "  </thead>\n",
       "  <tbody>\n",
       "    <tr>\n",
       "      <th>0</th>\n",
       "      <td>05/02/1998</td>\n",
       "    </tr>\n",
       "    <tr>\n",
       "      <th>1</th>\n",
       "      <td>28/03/2002</td>\n",
       "    </tr>\n",
       "    <tr>\n",
       "      <th>2</th>\n",
       "      <td>15/07/1991</td>\n",
       "    </tr>\n",
       "    <tr>\n",
       "      <th>3</th>\n",
       "      <td>08/11/2004</td>\n",
       "    </tr>\n",
       "    <tr>\n",
       "      <th>4</th>\n",
       "      <td>25/05/1994</td>\n",
       "    </tr>\n",
       "  </tbody>\n",
       "</table>\n",
       "</div>"
      ],
      "text/plain": [
       "         data\n",
       "0  05/02/1998\n",
       "1  28/03/2002\n",
       "2  15/07/1991\n",
       "3  08/11/2004\n",
       "4  25/05/1994"
      ]
     },
     "execution_count": 137,
     "metadata": {},
     "output_type": "execute_result"
    }
   ],
   "source": [
    "df_datas = pd.DataFrame()\n",
    "df_datas['data'] = df['Nascimento']\n",
    "df_datas.head()"
   ]
  },
  {
   "cell_type": "code",
   "execution_count": 138,
   "metadata": {},
   "outputs": [
    {
     "name": "stdout",
     "output_type": "stream",
     "text": [
      "Linhas com datas não convertíveis para datetime:\n",
      "    data       cargo\n",
      "1    NaT  Assistente\n",
      "2    NaT  Estagiário\n",
      "4    NaT  Estagiário\n",
      "6    NaT  Assistente\n",
      "7    NaT     Diretor\n",
      "..   ...         ...\n",
      "99   NaT    Analista\n",
      "102  NaT  Estagiário\n",
      "103  NaT  Estagiário\n",
      "107  NaT      Direto\n",
      "108  NaT     Diretor\n",
      "\n",
      "[66 rows x 2 columns]\n"
     ]
    },
    {
     "data": {
      "text/html": [
       "<div>\n",
       "<style scoped>\n",
       "    .dataframe tbody tr th:only-of-type {\n",
       "        vertical-align: middle;\n",
       "    }\n",
       "\n",
       "    .dataframe tbody tr th {\n",
       "        vertical-align: top;\n",
       "    }\n",
       "\n",
       "    .dataframe thead th {\n",
       "        text-align: right;\n",
       "    }\n",
       "</style>\n",
       "<table border=\"1\" class=\"dataframe\">\n",
       "  <thead>\n",
       "    <tr style=\"text-align: right;\">\n",
       "      <th></th>\n",
       "      <th>data</th>\n",
       "      <th>cargo</th>\n",
       "      <th>dia</th>\n",
       "      <th>mes</th>\n",
       "      <th>ano</th>\n",
       "      <th>idade</th>\n",
       "    </tr>\n",
       "  </thead>\n",
       "  <tbody>\n",
       "    <tr>\n",
       "      <th>0</th>\n",
       "      <td>1998-05-02</td>\n",
       "      <td>Assistente</td>\n",
       "      <td>2</td>\n",
       "      <td>5</td>\n",
       "      <td>1998</td>\n",
       "      <td>26</td>\n",
       "    </tr>\n",
       "    <tr>\n",
       "      <th>3</th>\n",
       "      <td>2004-08-11</td>\n",
       "      <td>Gerente</td>\n",
       "      <td>11</td>\n",
       "      <td>8</td>\n",
       "      <td>2004</td>\n",
       "      <td>20</td>\n",
       "    </tr>\n",
       "    <tr>\n",
       "      <th>5</th>\n",
       "      <td>1994-12-01</td>\n",
       "      <td>Diretor</td>\n",
       "      <td>1</td>\n",
       "      <td>12</td>\n",
       "      <td>1994</td>\n",
       "      <td>30</td>\n",
       "    </tr>\n",
       "    <tr>\n",
       "      <th>10</th>\n",
       "      <td>1995-09-05</td>\n",
       "      <td>Analista</td>\n",
       "      <td>5</td>\n",
       "      <td>9</td>\n",
       "      <td>1995</td>\n",
       "      <td>29</td>\n",
       "    </tr>\n",
       "    <tr>\n",
       "      <th>12</th>\n",
       "      <td>1996-01-09</td>\n",
       "      <td>Diretor</td>\n",
       "      <td>9</td>\n",
       "      <td>1</td>\n",
       "      <td>1996</td>\n",
       "      <td>28</td>\n",
       "    </tr>\n",
       "  </tbody>\n",
       "</table>\n",
       "</div>"
      ],
      "text/plain": [
       "         data       cargo  dia  mes   ano  idade\n",
       "0  1998-05-02  Assistente    2    5  1998     26\n",
       "3  2004-08-11     Gerente   11    8  2004     20\n",
       "5  1994-12-01     Diretor    1   12  1994     30\n",
       "10 1995-09-05    Analista    5    9  1995     29\n",
       "12 1996-01-09     Diretor    9    1  1996     28"
      ]
     },
     "execution_count": 138,
     "metadata": {},
     "output_type": "execute_result"
    }
   ],
   "source": [
    "df_datas['data'] = pd.to_datetime(df_datas['data'], errors='coerce')\n",
    "df_datas['cargo'] = df['Cargo']\n",
    "\n",
    "# Identificar as linhas onde a conversão resultou em NaT (entradas inválidas ou formatos inesperados)\n",
    "linhas_com_erro = df_datas[df_datas['data'].isna()]\n",
    "\n",
    "if not linhas_com_erro.empty:\n",
    "    print(\"Linhas com datas não convertíveis para datetime:\")\n",
    "    print(linhas_com_erro)\n",
    "\n",
    "# Para as linhas válidas, extração de dia, mês e ano, e cálculo da idade\n",
    "df_datas.dropna(subset=['data'], inplace=True)  # Opcional: remover linhas com NaT se desejar\n",
    "df_datas['dia'] = df_datas['data'].dt.day\n",
    "df_datas['mes'] = df_datas['data'].dt.month\n",
    "df_datas['ano'] = df_datas['data'].dt.year\n",
    "df_datas['idade'] = 2024 - df_datas['ano']\n",
    "\n",
    "df_datas.head()\n"
   ]
  },
  {
   "cell_type": "code",
   "execution_count": 139,
   "metadata": {},
   "outputs": [
    {
     "data": {
      "text/html": [
       "<div>\n",
       "<style scoped>\n",
       "    .dataframe tbody tr th:only-of-type {\n",
       "        vertical-align: middle;\n",
       "    }\n",
       "\n",
       "    .dataframe tbody tr th {\n",
       "        vertical-align: top;\n",
       "    }\n",
       "\n",
       "    .dataframe thead th {\n",
       "        text-align: right;\n",
       "    }\n",
       "</style>\n",
       "<table border=\"1\" class=\"dataframe\">\n",
       "  <thead>\n",
       "    <tr style=\"text-align: right;\">\n",
       "      <th></th>\n",
       "      <th>Nome</th>\n",
       "      <th>Nascimento</th>\n",
       "      <th>Salário</th>\n",
       "      <th>Cargo</th>\n",
       "    </tr>\n",
       "  </thead>\n",
       "  <tbody>\n",
       "    <tr>\n",
       "      <th>102</th>\n",
       "      <td>JÚLIO MASSI</td>\n",
       "      <td>NaN</td>\n",
       "      <td>1000.000000</td>\n",
       "      <td>Estagiário</td>\n",
       "    </tr>\n",
       "    <tr>\n",
       "      <th>103</th>\n",
       "      <td>MAYCON CRUZ</td>\n",
       "      <td>21/04/1999</td>\n",
       "      <td>1000.000000</td>\n",
       "      <td>Estagiário</td>\n",
       "    </tr>\n",
       "    <tr>\n",
       "      <th>104</th>\n",
       "      <td>FILIPE CRUZ</td>\n",
       "      <td>01/08/2001</td>\n",
       "      <td>7484.724138</td>\n",
       "      <td>Gerente</td>\n",
       "    </tr>\n",
       "    <tr>\n",
       "      <th>105</th>\n",
       "      <td>PEDRO NÁPOLES</td>\n",
       "      <td>05/13/1990</td>\n",
       "      <td>1000.000000</td>\n",
       "      <td>Gerente</td>\n",
       "    </tr>\n",
       "    <tr>\n",
       "      <th>106</th>\n",
       "      <td>OTÁVIO SOARES</td>\n",
       "      <td>05/11/1790</td>\n",
       "      <td>1000.000000</td>\n",
       "      <td>Assistente</td>\n",
       "    </tr>\n",
       "    <tr>\n",
       "      <th>107</th>\n",
       "      <td>VICTOR RODRIGUES</td>\n",
       "      <td>05/11/2990</td>\n",
       "      <td>40000.000000</td>\n",
       "      <td>Direto</td>\n",
       "    </tr>\n",
       "    <tr>\n",
       "      <th>108</th>\n",
       "      <td>VANESSA OLIVEIRA</td>\n",
       "      <td>105/11/1990</td>\n",
       "      <td>-5000.000000</td>\n",
       "      <td>Diretor</td>\n",
       "    </tr>\n",
       "  </tbody>\n",
       "</table>\n",
       "</div>"
      ],
      "text/plain": [
       "                 Nome   Nascimento       Salário       Cargo\n",
       "102       JÚLIO MASSI          NaN   1000.000000  Estagiário\n",
       "103       MAYCON CRUZ   21/04/1999   1000.000000  Estagiário\n",
       "104       FILIPE CRUZ   01/08/2001   7484.724138     Gerente\n",
       "105     PEDRO NÁPOLES   05/13/1990   1000.000000     Gerente\n",
       "106     OTÁVIO SOARES   05/11/1790   1000.000000  Assistente\n",
       "107  VICTOR RODRIGUES   05/11/2990  40000.000000      Direto\n",
       "108  VANESSA OLIVEIRA  105/11/1990  -5000.000000     Diretor"
      ]
     },
     "execution_count": 139,
     "metadata": {},
     "output_type": "execute_result"
    }
   ],
   "source": [
    "df[101:108]"
   ]
  },
  {
   "cell_type": "code",
   "execution_count": 140,
   "metadata": {},
   "outputs": [
    {
     "name": "stdout",
     "output_type": "stream",
     "text": [
      "cargo\n",
      "Analista      25.0\n",
      "Assistente    28.0\n",
      "Diretor       30.0\n",
      "Estagiário    21.0\n",
      "Gerente       28.5\n",
      "Name: idade, dtype: float64\n"
     ]
    }
   ],
   "source": [
    "#imprimir a média de idade por cargo\n",
    "print(df_datas.groupby('cargo')['idade'].median())"
   ]
  },
  {
   "cell_type": "code",
   "execution_count": 141,
   "metadata": {},
   "outputs": [
    {
     "data": {
      "text/plain": [
       "<Axes: >"
      ]
     },
     "execution_count": 141,
     "metadata": {},
     "output_type": "execute_result"
    }
   ],
   "source": [
    "df_datas.boxplot(column='idade')"
   ]
  },
  {
   "cell_type": "code",
   "execution_count": 142,
   "metadata": {},
   "outputs": [
    {
     "name": "stdout",
     "output_type": "stream",
     "text": [
      "          data       cargo  dia  mes   ano  idade\n",
      "106 1790-05-11  Assistente   11    5  1790    234\n"
     ]
    }
   ],
   "source": [
    "#Identificando onde está o outlier\n",
    "print(df_datas[df_datas['idade'] > 100])"
   ]
  },
  {
   "cell_type": "code",
   "execution_count": 143,
   "metadata": {},
   "outputs": [
    {
     "data": {
      "text/html": [
       "<div>\n",
       "<style scoped>\n",
       "    .dataframe tbody tr th:only-of-type {\n",
       "        vertical-align: middle;\n",
       "    }\n",
       "\n",
       "    .dataframe tbody tr th {\n",
       "        vertical-align: top;\n",
       "    }\n",
       "\n",
       "    .dataframe thead th {\n",
       "        text-align: right;\n",
       "    }\n",
       "</style>\n",
       "<table border=\"1\" class=\"dataframe\">\n",
       "  <thead>\n",
       "    <tr style=\"text-align: right;\">\n",
       "      <th></th>\n",
       "      <th>Nome</th>\n",
       "      <th>Nascimento</th>\n",
       "      <th>Salário</th>\n",
       "      <th>Cargo</th>\n",
       "    </tr>\n",
       "  </thead>\n",
       "  <tbody>\n",
       "    <tr>\n",
       "      <th>102</th>\n",
       "      <td>JÚLIO MASSI</td>\n",
       "      <td>01/01/1996</td>\n",
       "      <td>1000.000000</td>\n",
       "      <td>Estagiário</td>\n",
       "    </tr>\n",
       "    <tr>\n",
       "      <th>103</th>\n",
       "      <td>MAYCON CRUZ</td>\n",
       "      <td>21/04/1999</td>\n",
       "      <td>1000.000000</td>\n",
       "      <td>Estagiário</td>\n",
       "    </tr>\n",
       "    <tr>\n",
       "      <th>104</th>\n",
       "      <td>FILIPE CRUZ</td>\n",
       "      <td>01/08/2001</td>\n",
       "      <td>7484.724138</td>\n",
       "      <td>Gerente</td>\n",
       "    </tr>\n",
       "    <tr>\n",
       "      <th>105</th>\n",
       "      <td>PEDRO NÁPOLES</td>\n",
       "      <td>05/13/1990</td>\n",
       "      <td>1000.000000</td>\n",
       "      <td>Gerente</td>\n",
       "    </tr>\n",
       "    <tr>\n",
       "      <th>106</th>\n",
       "      <td>OTÁVIO SOARES</td>\n",
       "      <td>01/01/1997</td>\n",
       "      <td>1000.000000</td>\n",
       "      <td>Assistente</td>\n",
       "    </tr>\n",
       "    <tr>\n",
       "      <th>107</th>\n",
       "      <td>VICTOR RODRIGUES</td>\n",
       "      <td>01/01/1995</td>\n",
       "      <td>40000.000000</td>\n",
       "      <td>Direto</td>\n",
       "    </tr>\n",
       "    <tr>\n",
       "      <th>108</th>\n",
       "      <td>VANESSA OLIVEIRA</td>\n",
       "      <td>01/01/1995</td>\n",
       "      <td>-5000.000000</td>\n",
       "      <td>Diretor</td>\n",
       "    </tr>\n",
       "  </tbody>\n",
       "</table>\n",
       "</div>"
      ],
      "text/plain": [
       "                 Nome  Nascimento       Salário       Cargo\n",
       "102       JÚLIO MASSI  01/01/1996   1000.000000  Estagiário\n",
       "103       MAYCON CRUZ  21/04/1999   1000.000000  Estagiário\n",
       "104       FILIPE CRUZ  01/08/2001   7484.724138     Gerente\n",
       "105     PEDRO NÁPOLES  05/13/1990   1000.000000     Gerente\n",
       "106     OTÁVIO SOARES  01/01/1997   1000.000000  Assistente\n",
       "107  VICTOR RODRIGUES  01/01/1995  40000.000000      Direto\n",
       "108  VANESSA OLIVEIRA  01/01/1995  -5000.000000     Diretor"
      ]
     },
     "execution_count": 143,
     "metadata": {},
     "output_type": "execute_result"
    }
   ],
   "source": [
    "# 102,106,107,108 São linhas com erros de data, podemos preencher com a mediana por cargo\n",
    "media_diretor = 29\n",
    "media_assistente = 27\n",
    "media_estagiario = 28\n",
    "nascimento_diretor = '01/01/1995'\n",
    "nascimento_assistente = '01/01/1997'\n",
    "nascimento_estagiario = '01/01/1996'\n",
    "df.loc[102, 'Nascimento'] = nascimento_estagiario\n",
    "df.loc[106, 'Nascimento'] = nascimento_assistente\n",
    "df.loc[107, 'Nascimento'] = nascimento_diretor\n",
    "df.loc[108, 'Nascimento'] = nascimento_diretor\n",
    "\n",
    "df[101:108]"
   ]
  },
  {
   "cell_type": "code",
   "execution_count": 144,
   "metadata": {},
   "outputs": [
    {
     "data": {
      "image/png": "[encoded data removed]",
      "text/plain": [
       "<Figure size 640x480 with 1 Axes>"
      ]
     },
     "metadata": {},
     "output_type": "display_data"
    },
    {
     "data": {
      "image/png": "[encoded data removed]",
      "text/plain": [
       "<Figure size 640x480 with 1 Axes>"
      ]
     },
     "metadata": {},
     "output_type": "display_data"
    }
   ],
   "source": [
    "df.boxplot(column='Salário', by='Cargo')\n",
    "plt.show()"
   ]
  },
  {
   "cell_type": "code",
   "execution_count": 145,
   "metadata": {},
   "outputs": [
    {
     "name": "stdout",
     "output_type": "stream",
     "text": [
      "                 Nome  Nascimento  Salário    Cargo\n",
      "108  VANESSA OLIVEIRA  01/01/1995  -5000.0  Diretor\n"
     ]
    }
   ],
   "source": [
    "#Identificando salário negativo\n",
    "print(df[df['Salário'] < 0])"
   ]
  },
  {
   "cell_type": "code",
   "execution_count": 146,
   "metadata": {},
   "outputs": [
    {
     "ename": "TypeError",
     "evalue": "agg function failed [how->median,dtype->object]",
     "output_type": "error",
     "traceback": [
      "\u001b[1;31m---------------------------------------------------------------------------\u001b[0m",
      "\u001b[1;31mTypeError\u001b[0m                                 Traceback (most recent call last)",
      "File \u001b[1;32m~\\AppData\\Local\\Packages\\PythonSoftwareFoundation.Python.3.10_qbz5n2kfra8p0\\LocalCache\\local-packages\\Python310\\site-packages\\pandas\\core\\groupby\\groupby.py:1942\u001b[0m, in \u001b[0;36mGroupBy._agg_py_fallback\u001b[1;34m(self, how, values, ndim, alt)\u001b[0m\n\u001b[0;32m   1941\u001b[0m \u001b[38;5;28;01mtry\u001b[39;00m:\n\u001b[1;32m-> 1942\u001b[0m     res_values \u001b[38;5;241m=\u001b[39m \u001b[38;5;28;43mself\u001b[39;49m\u001b[38;5;241;43m.\u001b[39;49m\u001b[43m_grouper\u001b[49m\u001b[38;5;241;43m.\u001b[39;49m\u001b[43magg_series\u001b[49m\u001b[43m(\u001b[49m\u001b[43mser\u001b[49m\u001b[43m,\u001b[49m\u001b[43m \u001b[49m\u001b[43malt\u001b[49m\u001b[43m,\u001b[49m\u001b[43m \u001b[49m\u001b[43mpreserve_dtype\u001b[49m\u001b[38;5;241;43m=\u001b[39;49m\u001b[38;5;28;43;01mTrue\u001b[39;49;00m\u001b[43m)\u001b[49m\n\u001b[0;32m   1943\u001b[0m \u001b[38;5;28;01mexcept\u001b[39;00m \u001b[38;5;167;01mException\u001b[39;00m \u001b[38;5;28;01mas\u001b[39;00m err:\n",
      "File \u001b[1;32m~\\AppData\\Local\\Packages\\PythonSoftwareFoundation.Python.3.10_qbz5n2kfra8p0\\LocalCache\\local-packages\\Python310\\site-packages\\pandas\\core\\groupby\\ops.py:863\u001b[0m, in \u001b[0;36mBaseGrouper.agg_series\u001b[1;34m(self, obj, func, preserve_dtype)\u001b[0m\n\u001b[0;32m    861\u001b[0m     preserve_dtype \u001b[38;5;241m=\u001b[39m \u001b[38;5;28;01mTrue\u001b[39;00m\n\u001b[1;32m--> 863\u001b[0m result \u001b[38;5;241m=\u001b[39m \u001b[38;5;28;43mself\u001b[39;49m\u001b[38;5;241;43m.\u001b[39;49m\u001b[43m_aggregate_series_pure_python\u001b[49m\u001b[43m(\u001b[49m\u001b[43mobj\u001b[49m\u001b[43m,\u001b[49m\u001b[43m \u001b[49m\u001b[43mfunc\u001b[49m\u001b[43m)\u001b[49m\n\u001b[0;32m    865\u001b[0m npvalues \u001b[38;5;241m=\u001b[39m lib\u001b[38;5;241m.\u001b[39mmaybe_convert_objects(result, try_float\u001b[38;5;241m=\u001b[39m\u001b[38;5;28;01mFalse\u001b[39;00m)\n",
      "File \u001b[1;32m~\\AppData\\Local\\Packages\\PythonSoftwareFoundation.Python.3.10_qbz5n2kfra8p0\\LocalCache\\local-packages\\Python310\\site-packages\\pandas\\core\\groupby\\ops.py:884\u001b[0m, in \u001b[0;36mBaseGrouper._aggregate_series_pure_python\u001b[1;34m(self, obj, func)\u001b[0m\n\u001b[0;32m    883\u001b[0m \u001b[38;5;28;01mfor\u001b[39;00m i, group \u001b[38;5;129;01min\u001b[39;00m \u001b[38;5;28menumerate\u001b[39m(splitter):\n\u001b[1;32m--> 884\u001b[0m     res \u001b[38;5;241m=\u001b[39m \u001b[43mfunc\u001b[49m\u001b[43m(\u001b[49m\u001b[43mgroup\u001b[49m\u001b[43m)\u001b[49m\n\u001b[0;32m    885\u001b[0m     res \u001b[38;5;241m=\u001b[39m extract_result(res)\n",
      "File \u001b[1;32m~\\AppData\\Local\\Packages\\PythonSoftwareFoundation.Python.3.10_qbz5n2kfra8p0\\LocalCache\\local-packages\\Python310\\site-packages\\pandas\\core\\groupby\\groupby.py:2534\u001b[0m, in \u001b[0;36mGroupBy.median.<locals>.<lambda>\u001b[1;34m(x)\u001b[0m\n\u001b[0;32m   2461\u001b[0m \u001b[38;5;250m\u001b[39m\u001b[38;5;124;03m\"\"\"\u001b[39;00m\n\u001b[0;32m   2462\u001b[0m \u001b[38;5;124;03mCompute median of groups, excluding missing values.\u001b[39;00m\n\u001b[0;32m   2463\u001b[0m \n\u001b[1;32m   (...)\u001b[0m\n\u001b[0;32m   2530\u001b[0m \u001b[38;5;124;03mFreq: MS, dtype: float64\u001b[39;00m\n\u001b[0;32m   2531\u001b[0m \u001b[38;5;124;03m\"\"\"\u001b[39;00m\n\u001b[0;32m   2532\u001b[0m result \u001b[38;5;241m=\u001b[39m \u001b[38;5;28mself\u001b[39m\u001b[38;5;241m.\u001b[39m_cython_agg_general(\n\u001b[0;32m   2533\u001b[0m     \u001b[38;5;124m\"\u001b[39m\u001b[38;5;124mmedian\u001b[39m\u001b[38;5;124m\"\u001b[39m,\n\u001b[1;32m-> 2534\u001b[0m     alt\u001b[38;5;241m=\u001b[39m\u001b[38;5;28;01mlambda\u001b[39;00m x: \u001b[43mSeries\u001b[49m\u001b[43m(\u001b[49m\u001b[43mx\u001b[49m\u001b[43m,\u001b[49m\u001b[43m \u001b[49m\u001b[43mcopy\u001b[49m\u001b[38;5;241;43m=\u001b[39;49m\u001b[38;5;28;43;01mFalse\u001b[39;49;00m\u001b[43m)\u001b[49m\u001b[38;5;241;43m.\u001b[39;49m\u001b[43mmedian\u001b[49m\u001b[43m(\u001b[49m\u001b[43mnumeric_only\u001b[49m\u001b[38;5;241;43m=\u001b[39;49m\u001b[43mnumeric_only\u001b[49m\u001b[43m)\u001b[49m,\n\u001b[0;32m   2535\u001b[0m     numeric_only\u001b[38;5;241m=\u001b[39mnumeric_only,\n\u001b[0;32m   2536\u001b[0m )\n\u001b[0;32m   2537\u001b[0m \u001b[38;5;28;01mreturn\u001b[39;00m result\u001b[38;5;241m.\u001b[39m__finalize__(\u001b[38;5;28mself\u001b[39m\u001b[38;5;241m.\u001b[39mobj, method\u001b[38;5;241m=\u001b[39m\u001b[38;5;124m\"\u001b[39m\u001b[38;5;124mgroupby\u001b[39m\u001b[38;5;124m\"\u001b[39m)\n",
      "File \u001b[1;32m~\\AppData\\Local\\Packages\\PythonSoftwareFoundation.Python.3.10_qbz5n2kfra8p0\\LocalCache\\local-packages\\Python310\\site-packages\\pandas\\core\\series.py:6539\u001b[0m, in \u001b[0;36mSeries.median\u001b[1;34m(self, axis, skipna, numeric_only, **kwargs)\u001b[0m\n\u001b[0;32m   6531\u001b[0m \u001b[38;5;129m@doc\u001b[39m(make_doc(\u001b[38;5;124m\"\u001b[39m\u001b[38;5;124mmedian\u001b[39m\u001b[38;5;124m\"\u001b[39m, ndim\u001b[38;5;241m=\u001b[39m\u001b[38;5;241m1\u001b[39m))\n\u001b[0;32m   6532\u001b[0m \u001b[38;5;28;01mdef\u001b[39;00m \u001b[38;5;21mmedian\u001b[39m(\n\u001b[0;32m   6533\u001b[0m     \u001b[38;5;28mself\u001b[39m,\n\u001b[1;32m   (...)\u001b[0m\n\u001b[0;32m   6537\u001b[0m     \u001b[38;5;241m*\u001b[39m\u001b[38;5;241m*\u001b[39mkwargs,\n\u001b[0;32m   6538\u001b[0m ):\n\u001b[1;32m-> 6539\u001b[0m     \u001b[38;5;28;01mreturn\u001b[39;00m NDFrame\u001b[38;5;241m.\u001b[39mmedian(\u001b[38;5;28mself\u001b[39m, axis, skipna, numeric_only, \u001b[38;5;241m*\u001b[39m\u001b[38;5;241m*\u001b[39mkwargs)\n",
      "File \u001b[1;32m~\\AppData\\Local\\Packages\\PythonSoftwareFoundation.Python.3.10_qbz5n2kfra8p0\\LocalCache\\local-packages\\Python310\\site-packages\\pandas\\core\\generic.py:12424\u001b[0m, in \u001b[0;36mNDFrame.median\u001b[1;34m(self, axis, skipna, numeric_only, **kwargs)\u001b[0m\n\u001b[0;32m  12417\u001b[0m \u001b[38;5;28;01mdef\u001b[39;00m \u001b[38;5;21mmedian\u001b[39m(\n\u001b[0;32m  12418\u001b[0m     \u001b[38;5;28mself\u001b[39m,\n\u001b[0;32m  12419\u001b[0m     axis: Axis \u001b[38;5;241m|\u001b[39m \u001b[38;5;28;01mNone\u001b[39;00m \u001b[38;5;241m=\u001b[39m \u001b[38;5;241m0\u001b[39m,\n\u001b[1;32m   (...)\u001b[0m\n\u001b[0;32m  12422\u001b[0m     \u001b[38;5;241m*\u001b[39m\u001b[38;5;241m*\u001b[39mkwargs,\n\u001b[0;32m  12423\u001b[0m ) \u001b[38;5;241m-\u001b[39m\u001b[38;5;241m>\u001b[39m Series \u001b[38;5;241m|\u001b[39m \u001b[38;5;28mfloat\u001b[39m:\n\u001b[1;32m> 12424\u001b[0m     \u001b[38;5;28;01mreturn\u001b[39;00m \u001b[38;5;28mself\u001b[39m\u001b[38;5;241m.\u001b[39m_stat_function(\n\u001b[0;32m  12425\u001b[0m         \u001b[38;5;124m\"\u001b[39m\u001b[38;5;124mmedian\u001b[39m\u001b[38;5;124m\"\u001b[39m, nanops\u001b[38;5;241m.\u001b[39mnanmedian, axis, skipna, numeric_only, \u001b[38;5;241m*\u001b[39m\u001b[38;5;241m*\u001b[39mkwargs\n\u001b[0;32m  12426\u001b[0m     )\n",
      "File \u001b[1;32m~\\AppData\\Local\\Packages\\PythonSoftwareFoundation.Python.3.10_qbz5n2kfra8p0\\LocalCache\\local-packages\\Python310\\site-packages\\pandas\\core\\generic.py:12370\u001b[0m, in \u001b[0;36mNDFrame._stat_function\u001b[1;34m(self, name, func, axis, skipna, numeric_only, **kwargs)\u001b[0m\n\u001b[0;32m  12368\u001b[0m validate_bool_kwarg(skipna, \u001b[38;5;124m\"\u001b[39m\u001b[38;5;124mskipna\u001b[39m\u001b[38;5;124m\"\u001b[39m, none_allowed\u001b[38;5;241m=\u001b[39m\u001b[38;5;28;01mFalse\u001b[39;00m)\n\u001b[1;32m> 12370\u001b[0m \u001b[38;5;28;01mreturn\u001b[39;00m \u001b[38;5;28;43mself\u001b[39;49m\u001b[38;5;241;43m.\u001b[39;49m\u001b[43m_reduce\u001b[49m\u001b[43m(\u001b[49m\n\u001b[0;32m  12371\u001b[0m \u001b[43m    \u001b[49m\u001b[43mfunc\u001b[49m\u001b[43m,\u001b[49m\u001b[43m \u001b[49m\u001b[43mname\u001b[49m\u001b[38;5;241;43m=\u001b[39;49m\u001b[43mname\u001b[49m\u001b[43m,\u001b[49m\u001b[43m \u001b[49m\u001b[43maxis\u001b[49m\u001b[38;5;241;43m=\u001b[39;49m\u001b[43maxis\u001b[49m\u001b[43m,\u001b[49m\u001b[43m \u001b[49m\u001b[43mskipna\u001b[49m\u001b[38;5;241;43m=\u001b[39;49m\u001b[43mskipna\u001b[49m\u001b[43m,\u001b[49m\u001b[43m \u001b[49m\u001b[43mnumeric_only\u001b[49m\u001b[38;5;241;43m=\u001b[39;49m\u001b[43mnumeric_only\u001b[49m\n\u001b[0;32m  12372\u001b[0m \u001b[43m\u001b[49m\u001b[43m)\u001b[49m\n",
      "File \u001b[1;32m~\\AppData\\Local\\Packages\\PythonSoftwareFoundation.Python.3.10_qbz5n2kfra8p0\\LocalCache\\local-packages\\Python310\\site-packages\\pandas\\core\\series.py:6437\u001b[0m, in \u001b[0;36mSeries._reduce\u001b[1;34m(self, op, name, axis, skipna, numeric_only, filter_type, **kwds)\u001b[0m\n\u001b[0;32m   6433\u001b[0m     \u001b[38;5;28;01mraise\u001b[39;00m \u001b[38;5;167;01mTypeError\u001b[39;00m(\n\u001b[0;32m   6434\u001b[0m         \u001b[38;5;124mf\u001b[39m\u001b[38;5;124m\"\u001b[39m\u001b[38;5;124mSeries.\u001b[39m\u001b[38;5;132;01m{\u001b[39;00mname\u001b[38;5;132;01m}\u001b[39;00m\u001b[38;5;124m does not allow \u001b[39m\u001b[38;5;132;01m{\u001b[39;00mkwd_name\u001b[38;5;132;01m}\u001b[39;00m\u001b[38;5;124m=\u001b[39m\u001b[38;5;132;01m{\u001b[39;00mnumeric_only\u001b[38;5;132;01m}\u001b[39;00m\u001b[38;5;124m \u001b[39m\u001b[38;5;124m\"\u001b[39m\n\u001b[0;32m   6435\u001b[0m         \u001b[38;5;124m\"\u001b[39m\u001b[38;5;124mwith non-numeric dtypes.\u001b[39m\u001b[38;5;124m\"\u001b[39m\n\u001b[0;32m   6436\u001b[0m     )\n\u001b[1;32m-> 6437\u001b[0m \u001b[38;5;28;01mreturn\u001b[39;00m op(delegate, skipna\u001b[38;5;241m=\u001b[39mskipna, \u001b[38;5;241m*\u001b[39m\u001b[38;5;241m*\u001b[39mkwds)\n",
      "File \u001b[1;32m~\\AppData\\Local\\Packages\\PythonSoftwareFoundation.Python.3.10_qbz5n2kfra8p0\\LocalCache\\local-packages\\Python310\\site-packages\\pandas\\core\\nanops.py:147\u001b[0m, in \u001b[0;36mbottleneck_switch.__call__.<locals>.f\u001b[1;34m(values, axis, skipna, **kwds)\u001b[0m\n\u001b[0;32m    146\u001b[0m \u001b[38;5;28;01melse\u001b[39;00m:\n\u001b[1;32m--> 147\u001b[0m     result \u001b[38;5;241m=\u001b[39m alt(values, axis\u001b[38;5;241m=\u001b[39maxis, skipna\u001b[38;5;241m=\u001b[39mskipna, \u001b[38;5;241m*\u001b[39m\u001b[38;5;241m*\u001b[39mkwds)\n\u001b[0;32m    149\u001b[0m \u001b[38;5;28;01mreturn\u001b[39;00m result\n",
      "File \u001b[1;32m~\\AppData\\Local\\Packages\\PythonSoftwareFoundation.Python.3.10_qbz5n2kfra8p0\\LocalCache\\local-packages\\Python310\\site-packages\\pandas\\core\\nanops.py:787\u001b[0m, in \u001b[0;36mnanmedian\u001b[1;34m(values, axis, skipna, mask)\u001b[0m\n\u001b[0;32m    786\u001b[0m     \u001b[38;5;28;01mif\u001b[39;00m inferred \u001b[38;5;129;01min\u001b[39;00m [\u001b[38;5;124m\"\u001b[39m\u001b[38;5;124mstring\u001b[39m\u001b[38;5;124m\"\u001b[39m, \u001b[38;5;124m\"\u001b[39m\u001b[38;5;124mmixed\u001b[39m\u001b[38;5;124m\"\u001b[39m]:\n\u001b[1;32m--> 787\u001b[0m         \u001b[38;5;28;01mraise\u001b[39;00m \u001b[38;5;167;01mTypeError\u001b[39;00m(\u001b[38;5;124mf\u001b[39m\u001b[38;5;124m\"\u001b[39m\u001b[38;5;124mCannot convert \u001b[39m\u001b[38;5;132;01m{\u001b[39;00mvalues\u001b[38;5;132;01m}\u001b[39;00m\u001b[38;5;124m to numeric\u001b[39m\u001b[38;5;124m\"\u001b[39m)\n\u001b[0;32m    788\u001b[0m \u001b[38;5;28;01mtry\u001b[39;00m:\n",
      "\u001b[1;31mTypeError\u001b[0m: Cannot convert ['DAVI SANTOS' 'MAYCON RODRIGUES' 'WEMERSON CRUZ' 'GABRIEL BANDEIRA'\n 'FILIPE NETO' 'DAVI SANTOS' 'MAYCON SOARES' 'MAYCON SILVA' 'LUIZ NÁPOLES'\n 'WEMERSON SANTOS' 'FILIPE RODRIGUES' 'JÚLIO NÁPOLES' 'DAVI SILVA'\n 'JÚLIO OLIVEIRA'] to numeric",
      "\nThe above exception was the direct cause of the following exception:\n",
      "\u001b[1;31mTypeError\u001b[0m                                 Traceback (most recent call last)",
      "Cell \u001b[1;32mIn[146], line 3\u001b[0m\n\u001b[0;32m      1\u001b[0m \u001b[38;5;66;03m# 109 é um erro de digitação, vamos preencher com a mediana do cargo\u001b[39;00m\n\u001b[0;32m      2\u001b[0m \u001b[38;5;66;03m# Mediana de salários por cargo\u001b[39;00m\n\u001b[1;32m----> 3\u001b[0m mediana_Diretor \u001b[38;5;241m=\u001b[39m \u001b[43mdf\u001b[49m\u001b[38;5;241;43m.\u001b[39;49m\u001b[43mgroupby\u001b[49m\u001b[43m(\u001b[49m\u001b[38;5;124;43m'\u001b[39;49m\u001b[38;5;124;43mCargo\u001b[39;49m\u001b[38;5;124;43m'\u001b[39;49m\u001b[43m)\u001b[49m\u001b[38;5;241;43m.\u001b[39;49m\u001b[43mmedian\u001b[49m\u001b[43m(\u001b[49m\u001b[43m)\u001b[49m\u001b[38;5;241m.\u001b[39mat[\u001b[38;5;124m'\u001b[39m\u001b[38;5;124mDiretor\u001b[39m\u001b[38;5;124m'\u001b[39m, \u001b[38;5;124m'\u001b[39m\u001b[38;5;124mSalário\u001b[39m\u001b[38;5;124m'\u001b[39m]\n\u001b[0;32m      4\u001b[0m df\u001b[38;5;241m.\u001b[39mloc[\u001b[38;5;241m108\u001b[39m, \u001b[38;5;124m'\u001b[39m\u001b[38;5;124mSalário\u001b[39m\u001b[38;5;124m'\u001b[39m] \u001b[38;5;241m=\u001b[39m mediana_Diretor\n",
      "File \u001b[1;32m~\\AppData\\Local\\Packages\\PythonSoftwareFoundation.Python.3.10_qbz5n2kfra8p0\\LocalCache\\local-packages\\Python310\\site-packages\\pandas\\core\\groupby\\groupby.py:2532\u001b[0m, in \u001b[0;36mGroupBy.median\u001b[1;34m(self, numeric_only)\u001b[0m\n\u001b[0;32m   2459\u001b[0m \u001b[38;5;129m@final\u001b[39m\n\u001b[0;32m   2460\u001b[0m \u001b[38;5;28;01mdef\u001b[39;00m \u001b[38;5;21mmedian\u001b[39m(\u001b[38;5;28mself\u001b[39m, numeric_only: \u001b[38;5;28mbool\u001b[39m \u001b[38;5;241m=\u001b[39m \u001b[38;5;28;01mFalse\u001b[39;00m) \u001b[38;5;241m-\u001b[39m\u001b[38;5;241m>\u001b[39m NDFrameT:\n\u001b[0;32m   2461\u001b[0m \u001b[38;5;250m    \u001b[39m\u001b[38;5;124;03m\"\"\"\u001b[39;00m\n\u001b[0;32m   2462\u001b[0m \u001b[38;5;124;03m    Compute median of groups, excluding missing values.\u001b[39;00m\n\u001b[0;32m   2463\u001b[0m \n\u001b[1;32m   (...)\u001b[0m\n\u001b[0;32m   2530\u001b[0m \u001b[38;5;124;03m    Freq: MS, dtype: float64\u001b[39;00m\n\u001b[0;32m   2531\u001b[0m \u001b[38;5;124;03m    \"\"\"\u001b[39;00m\n\u001b[1;32m-> 2532\u001b[0m     result \u001b[38;5;241m=\u001b[39m \u001b[38;5;28;43mself\u001b[39;49m\u001b[38;5;241;43m.\u001b[39;49m\u001b[43m_cython_agg_general\u001b[49m\u001b[43m(\u001b[49m\n\u001b[0;32m   2533\u001b[0m \u001b[43m        \u001b[49m\u001b[38;5;124;43m\"\u001b[39;49m\u001b[38;5;124;43mmedian\u001b[39;49m\u001b[38;5;124;43m\"\u001b[39;49m\u001b[43m,\u001b[49m\n\u001b[0;32m   2534\u001b[0m \u001b[43m        \u001b[49m\u001b[43malt\u001b[49m\u001b[38;5;241;43m=\u001b[39;49m\u001b[38;5;28;43;01mlambda\u001b[39;49;00m\u001b[43m \u001b[49m\u001b[43mx\u001b[49m\u001b[43m:\u001b[49m\u001b[43m \u001b[49m\u001b[43mSeries\u001b[49m\u001b[43m(\u001b[49m\u001b[43mx\u001b[49m\u001b[43m,\u001b[49m\u001b[43m \u001b[49m\u001b[43mcopy\u001b[49m\u001b[38;5;241;43m=\u001b[39;49m\u001b[38;5;28;43;01mFalse\u001b[39;49;00m\u001b[43m)\u001b[49m\u001b[38;5;241;43m.\u001b[39;49m\u001b[43mmedian\u001b[49m\u001b[43m(\u001b[49m\u001b[43mnumeric_only\u001b[49m\u001b[38;5;241;43m=\u001b[39;49m\u001b[43mnumeric_only\u001b[49m\u001b[43m)\u001b[49m\u001b[43m,\u001b[49m\n\u001b[0;32m   2535\u001b[0m \u001b[43m        \u001b[49m\u001b[43mnumeric_only\u001b[49m\u001b[38;5;241;43m=\u001b[39;49m\u001b[43mnumeric_only\u001b[49m\u001b[43m,\u001b[49m\n\u001b[0;32m   2536\u001b[0m \u001b[43m    \u001b[49m\u001b[43m)\u001b[49m\n\u001b[0;32m   2537\u001b[0m     \u001b[38;5;28;01mreturn\u001b[39;00m result\u001b[38;5;241m.\u001b[39m__finalize__(\u001b[38;5;28mself\u001b[39m\u001b[38;5;241m.\u001b[39mobj, method\u001b[38;5;241m=\u001b[39m\u001b[38;5;124m\"\u001b[39m\u001b[38;5;124mgroupby\u001b[39m\u001b[38;5;124m\"\u001b[39m)\n",
      "File \u001b[1;32m~\\AppData\\Local\\Packages\\PythonSoftwareFoundation.Python.3.10_qbz5n2kfra8p0\\LocalCache\\local-packages\\Python310\\site-packages\\pandas\\core\\groupby\\groupby.py:1998\u001b[0m, in \u001b[0;36mGroupBy._cython_agg_general\u001b[1;34m(self, how, alt, numeric_only, min_count, **kwargs)\u001b[0m\n\u001b[0;32m   1995\u001b[0m     result \u001b[38;5;241m=\u001b[39m \u001b[38;5;28mself\u001b[39m\u001b[38;5;241m.\u001b[39m_agg_py_fallback(how, values, ndim\u001b[38;5;241m=\u001b[39mdata\u001b[38;5;241m.\u001b[39mndim, alt\u001b[38;5;241m=\u001b[39malt)\n\u001b[0;32m   1996\u001b[0m     \u001b[38;5;28;01mreturn\u001b[39;00m result\n\u001b[1;32m-> 1998\u001b[0m new_mgr \u001b[38;5;241m=\u001b[39m \u001b[43mdata\u001b[49m\u001b[38;5;241;43m.\u001b[39;49m\u001b[43mgrouped_reduce\u001b[49m\u001b[43m(\u001b[49m\u001b[43marray_func\u001b[49m\u001b[43m)\u001b[49m\n\u001b[0;32m   1999\u001b[0m res \u001b[38;5;241m=\u001b[39m \u001b[38;5;28mself\u001b[39m\u001b[38;5;241m.\u001b[39m_wrap_agged_manager(new_mgr)\n\u001b[0;32m   2000\u001b[0m \u001b[38;5;28;01mif\u001b[39;00m how \u001b[38;5;129;01min\u001b[39;00m [\u001b[38;5;124m\"\u001b[39m\u001b[38;5;124midxmin\u001b[39m\u001b[38;5;124m\"\u001b[39m, \u001b[38;5;124m\"\u001b[39m\u001b[38;5;124midxmax\u001b[39m\u001b[38;5;124m\"\u001b[39m]:\n",
      "File \u001b[1;32m~\\AppData\\Local\\Packages\\PythonSoftwareFoundation.Python.3.10_qbz5n2kfra8p0\\LocalCache\\local-packages\\Python310\\site-packages\\pandas\\core\\internals\\managers.py:1470\u001b[0m, in \u001b[0;36mBlockManager.grouped_reduce\u001b[1;34m(self, func)\u001b[0m\n\u001b[0;32m   1466\u001b[0m \u001b[38;5;28;01mif\u001b[39;00m blk\u001b[38;5;241m.\u001b[39mis_object:\n\u001b[0;32m   1467\u001b[0m     \u001b[38;5;66;03m# split on object-dtype blocks bc some columns may raise\u001b[39;00m\n\u001b[0;32m   1468\u001b[0m     \u001b[38;5;66;03m#  while others do not.\u001b[39;00m\n\u001b[0;32m   1469\u001b[0m     \u001b[38;5;28;01mfor\u001b[39;00m sb \u001b[38;5;129;01min\u001b[39;00m blk\u001b[38;5;241m.\u001b[39m_split():\n\u001b[1;32m-> 1470\u001b[0m         applied \u001b[38;5;241m=\u001b[39m \u001b[43msb\u001b[49m\u001b[38;5;241;43m.\u001b[39;49m\u001b[43mapply\u001b[49m\u001b[43m(\u001b[49m\u001b[43mfunc\u001b[49m\u001b[43m)\u001b[49m\n\u001b[0;32m   1471\u001b[0m         result_blocks \u001b[38;5;241m=\u001b[39m extend_blocks(applied, result_blocks)\n\u001b[0;32m   1472\u001b[0m \u001b[38;5;28;01melse\u001b[39;00m:\n",
      "File \u001b[1;32m~\\AppData\\Local\\Packages\\PythonSoftwareFoundation.Python.3.10_qbz5n2kfra8p0\\LocalCache\\local-packages\\Python310\\site-packages\\pandas\\core\\internals\\blocks.py:393\u001b[0m, in \u001b[0;36mBlock.apply\u001b[1;34m(self, func, **kwargs)\u001b[0m\n\u001b[0;32m    387\u001b[0m \u001b[38;5;129m@final\u001b[39m\n\u001b[0;32m    388\u001b[0m \u001b[38;5;28;01mdef\u001b[39;00m \u001b[38;5;21mapply\u001b[39m(\u001b[38;5;28mself\u001b[39m, func, \u001b[38;5;241m*\u001b[39m\u001b[38;5;241m*\u001b[39mkwargs) \u001b[38;5;241m-\u001b[39m\u001b[38;5;241m>\u001b[39m \u001b[38;5;28mlist\u001b[39m[Block]:\n\u001b[0;32m    389\u001b[0m \u001b[38;5;250m    \u001b[39m\u001b[38;5;124;03m\"\"\"\u001b[39;00m\n\u001b[0;32m    390\u001b[0m \u001b[38;5;124;03m    apply the function to my values; return a block if we are not\u001b[39;00m\n\u001b[0;32m    391\u001b[0m \u001b[38;5;124;03m    one\u001b[39;00m\n\u001b[0;32m    392\u001b[0m \u001b[38;5;124;03m    \"\"\"\u001b[39;00m\n\u001b[1;32m--> 393\u001b[0m     result \u001b[38;5;241m=\u001b[39m func(\u001b[38;5;28mself\u001b[39m\u001b[38;5;241m.\u001b[39mvalues, \u001b[38;5;241m*\u001b[39m\u001b[38;5;241m*\u001b[39mkwargs)\n\u001b[0;32m    395\u001b[0m     result \u001b[38;5;241m=\u001b[39m maybe_coerce_values(result)\n\u001b[0;32m    396\u001b[0m     \u001b[38;5;28;01mreturn\u001b[39;00m \u001b[38;5;28mself\u001b[39m\u001b[38;5;241m.\u001b[39m_split_op_result(result)\n",
      "File \u001b[1;32m~\\AppData\\Local\\Packages\\PythonSoftwareFoundation.Python.3.10_qbz5n2kfra8p0\\LocalCache\\local-packages\\Python310\\site-packages\\pandas\\core\\groupby\\groupby.py:1995\u001b[0m, in \u001b[0;36mGroupBy._cython_agg_general.<locals>.array_func\u001b[1;34m(values)\u001b[0m\n\u001b[0;32m   1992\u001b[0m     \u001b[38;5;28;01mreturn\u001b[39;00m result\n\u001b[0;32m   1994\u001b[0m \u001b[38;5;28;01massert\u001b[39;00m alt \u001b[38;5;129;01mis\u001b[39;00m \u001b[38;5;129;01mnot\u001b[39;00m \u001b[38;5;28;01mNone\u001b[39;00m\n\u001b[1;32m-> 1995\u001b[0m result \u001b[38;5;241m=\u001b[39m \u001b[38;5;28;43mself\u001b[39;49m\u001b[38;5;241;43m.\u001b[39;49m\u001b[43m_agg_py_fallback\u001b[49m\u001b[43m(\u001b[49m\u001b[43mhow\u001b[49m\u001b[43m,\u001b[49m\u001b[43m \u001b[49m\u001b[43mvalues\u001b[49m\u001b[43m,\u001b[49m\u001b[43m \u001b[49m\u001b[43mndim\u001b[49m\u001b[38;5;241;43m=\u001b[39;49m\u001b[43mdata\u001b[49m\u001b[38;5;241;43m.\u001b[39;49m\u001b[43mndim\u001b[49m\u001b[43m,\u001b[49m\u001b[43m \u001b[49m\u001b[43malt\u001b[49m\u001b[38;5;241;43m=\u001b[39;49m\u001b[43malt\u001b[49m\u001b[43m)\u001b[49m\n\u001b[0;32m   1996\u001b[0m \u001b[38;5;28;01mreturn\u001b[39;00m result\n",
      "File \u001b[1;32m~\\AppData\\Local\\Packages\\PythonSoftwareFoundation.Python.3.10_qbz5n2kfra8p0\\LocalCache\\local-packages\\Python310\\site-packages\\pandas\\core\\groupby\\groupby.py:1946\u001b[0m, in \u001b[0;36mGroupBy._agg_py_fallback\u001b[1;34m(self, how, values, ndim, alt)\u001b[0m\n\u001b[0;32m   1944\u001b[0m     msg \u001b[38;5;241m=\u001b[39m \u001b[38;5;124mf\u001b[39m\u001b[38;5;124m\"\u001b[39m\u001b[38;5;124magg function failed [how->\u001b[39m\u001b[38;5;132;01m{\u001b[39;00mhow\u001b[38;5;132;01m}\u001b[39;00m\u001b[38;5;124m,dtype->\u001b[39m\u001b[38;5;132;01m{\u001b[39;00mser\u001b[38;5;241m.\u001b[39mdtype\u001b[38;5;132;01m}\u001b[39;00m\u001b[38;5;124m]\u001b[39m\u001b[38;5;124m\"\u001b[39m\n\u001b[0;32m   1945\u001b[0m     \u001b[38;5;66;03m# preserve the kind of exception that raised\u001b[39;00m\n\u001b[1;32m-> 1946\u001b[0m     \u001b[38;5;28;01mraise\u001b[39;00m \u001b[38;5;28mtype\u001b[39m(err)(msg) \u001b[38;5;28;01mfrom\u001b[39;00m \u001b[38;5;21;01merr\u001b[39;00m\n\u001b[0;32m   1948\u001b[0m \u001b[38;5;28;01mif\u001b[39;00m ser\u001b[38;5;241m.\u001b[39mdtype \u001b[38;5;241m==\u001b[39m \u001b[38;5;28mobject\u001b[39m:\n\u001b[0;32m   1949\u001b[0m     res_values \u001b[38;5;241m=\u001b[39m res_values\u001b[38;5;241m.\u001b[39mastype(\u001b[38;5;28mobject\u001b[39m, copy\u001b[38;5;241m=\u001b[39m\u001b[38;5;28;01mFalse\u001b[39;00m)\n",
      "\u001b[1;31mTypeError\u001b[0m: agg function failed [how->median,dtype->object]"
     ]
    }
   ],
   "source": [
    "# 109 é um erro de digitação, vamos preencher com a mediana do cargo\n",
    "# Mediana de salários por cargo\n",
    "mediana_Diretor = df.groupby('Cargo').median().at['Diretor', 'Salário']\n",
    "df.loc[108, 'Salário'] = mediana_Diretor"
   ]
  },
  {
   "cell_type": "code",
   "execution_count": null,
   "metadata": {},
   "outputs": [
    {
     "data": {
      "text/html": [
       "<div>\n",
       "<style scoped>\n",
       "    .dataframe tbody tr th:only-of-type {\n",
       "        vertical-align: middle;\n",
       "    }\n",
       "\n",
       "    .dataframe tbody tr th {\n",
       "        vertical-align: top;\n",
       "    }\n",
       "\n",
       "    .dataframe thead th {\n",
       "        text-align: right;\n",
       "    }\n",
       "</style>\n",
       "<table border=\"1\" class=\"dataframe\">\n",
       "  <thead>\n",
       "    <tr style=\"text-align: right;\">\n",
       "      <th></th>\n",
       "      <th>Nome</th>\n",
       "      <th>Nascimento</th>\n",
       "      <th>Salário</th>\n",
       "      <th>Cargo</th>\n",
       "    </tr>\n",
       "  </thead>\n",
       "  <tbody>\n",
       "    <tr>\n",
       "      <th>104</th>\n",
       "      <td>PEDRO NÁPOLES</td>\n",
       "      <td>05/13/1990</td>\n",
       "      <td>1000.0</td>\n",
       "      <td>Gerente</td>\n",
       "    </tr>\n",
       "    <tr>\n",
       "      <th>105</th>\n",
       "      <td>OTÁVIO SOARES</td>\n",
       "      <td>01/01/1997</td>\n",
       "      <td>1000.0</td>\n",
       "      <td>Assistente</td>\n",
       "    </tr>\n",
       "    <tr>\n",
       "      <th>106</th>\n",
       "      <td>VICTOR RODRIGUES</td>\n",
       "      <td>01/01/1997</td>\n",
       "      <td>40000.0</td>\n",
       "      <td>Diretor</td>\n",
       "    </tr>\n",
       "    <tr>\n",
       "      <th>107</th>\n",
       "      <td>VANESSA OLIVEIRA</td>\n",
       "      <td>01/01/1995</td>\n",
       "      <td>7194.0</td>\n",
       "      <td>Diretor</td>\n",
       "    </tr>\n",
       "    <tr>\n",
       "      <th>108</th>\n",
       "      <td>NaN</td>\n",
       "      <td>01/01/1995</td>\n",
       "      <td>7205.0</td>\n",
       "      <td>NaN</td>\n",
       "    </tr>\n",
       "  </tbody>\n",
       "</table>\n",
       "</div>"
      ],
      "text/plain": [
       "                 Nome  Nascimento  Salário       Cargo\n",
       "104     PEDRO NÁPOLES  05/13/1990   1000.0     Gerente\n",
       "105     OTÁVIO SOARES  01/01/1997   1000.0  Assistente\n",
       "106  VICTOR RODRIGUES  01/01/1997  40000.0     Diretor\n",
       "107  VANESSA OLIVEIRA  01/01/1995   7194.0     Diretor\n",
       "108               NaN  01/01/1995   7205.0         NaN"
      ]
     },
     "execution_count": 26,
     "metadata": {},
     "output_type": "execute_result"
    }
   ],
   "source": [
    "df.tail()"
   ]
  },
  {
   "cell_type": "code",
   "execution_count": null,
   "metadata": {},
   "outputs": [],
   "source": [
    "# Salvando o dataframe limpo\n",
    "df.to_csv('../Data/Dados Sujos/clientesLimpos.csv', index=False)"
   ]
  },
  {
   "cell_type": "code",
   "execution_count": null,
   "metadata": {},
   "outputs": [
    {
     "data": {
      "text/html": [
       "<div>\n",
       "<style scoped>\n",
       "    .dataframe tbody tr th:only-of-type {\n",
       "        vertical-align: middle;\n",
       "    }\n",
       "\n",
       "    .dataframe tbody tr th {\n",
       "        vertical-align: top;\n",
       "    }\n",
       "\n",
       "    .dataframe thead th {\n",
       "        text-align: right;\n",
       "    }\n",
       "</style>\n",
       "<table border=\"1\" class=\"dataframe\">\n",
       "  <thead>\n",
       "    <tr style=\"text-align: right;\">\n",
       "      <th></th>\n",
       "      <th>Nome</th>\n",
       "      <th>Nascimento</th>\n",
       "      <th>Salário</th>\n",
       "      <th>Cargo</th>\n",
       "    </tr>\n",
       "  </thead>\n",
       "  <tbody>\n",
       "    <tr>\n",
       "      <th>0</th>\n",
       "      <td>FILIPE COSTA</td>\n",
       "      <td>05/02/1998</td>\n",
       "      <td>3732.0</td>\n",
       "      <td>1</td>\n",
       "    </tr>\n",
       "    <tr>\n",
       "      <th>1</th>\n",
       "      <td>VICTOR CRUZ</td>\n",
       "      <td>28/03/2002</td>\n",
       "      <td>11799.0</td>\n",
       "      <td>1</td>\n",
       "    </tr>\n",
       "    <tr>\n",
       "      <th>2</th>\n",
       "      <td>OTÁVIO SILVA</td>\n",
       "      <td>15/07/1991</td>\n",
       "      <td>1000.0</td>\n",
       "      <td>3</td>\n",
       "    </tr>\n",
       "    <tr>\n",
       "      <th>3</th>\n",
       "      <td>JOÃO CRUZ</td>\n",
       "      <td>08/11/2004</td>\n",
       "      <td>4264.0</td>\n",
       "      <td>4</td>\n",
       "    </tr>\n",
       "    <tr>\n",
       "      <th>4</th>\n",
       "      <td>GUSTAVO NETO</td>\n",
       "      <td>25/05/1994</td>\n",
       "      <td>1000.0</td>\n",
       "      <td>3</td>\n",
       "    </tr>\n",
       "  </tbody>\n",
       "</table>\n",
       "</div>"
      ],
      "text/plain": [
       "           Nome  Nascimento  Salário  Cargo\n",
       "0  FILIPE COSTA  05/02/1998   3732.0      1\n",
       "1   VICTOR CRUZ  28/03/2002  11799.0      1\n",
       "2  OTÁVIO SILVA  15/07/1991   1000.0      3\n",
       "3     JOÃO CRUZ  08/11/2004   4264.0      4\n",
       "4  GUSTAVO NETO  25/05/1994   1000.0      3"
      ]
     },
     "execution_count": 28,
     "metadata": {},
     "output_type": "execute_result"
    }
   ],
   "source": [
    "# Transformando cargos em numéricos\n",
    "df['Cargo'] = df['Cargo'].astype('category').cat.codes\n",
    "df.head()"
   ]
  },
  {
   "cell_type": "code",
   "execution_count": null,
   "metadata": {},
   "outputs": [],
   "source": []
  }
 ],
 "metadata": {
  "kernelspec": {
   "display_name": "Python 3",
   "language": "python",
   "name": "python3"
  },
  "language_info": {
   "codemirror_mode": {
    "name": "ipython",
    "version": 3
   },
   "file_extension": ".py",
   "mimetype": "text/x-python",
   "name": "python",
   "nbconvert_exporter": "python",
   "pygments_lexer": "ipython3",
   "version": "3.10.11"
  }
 },
 "nbformat": 4,
 "nbformat_minor": 2
}
