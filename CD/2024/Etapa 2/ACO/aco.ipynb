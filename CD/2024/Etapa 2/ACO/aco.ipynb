{
 "cells": [
  {
   "cell_type": "code",
   "execution_count": null,
   "metadata": {},
   "outputs": [
    {
     "name": "stdout",
     "output_type": "stream",
     "text": [
      "Melhor solução encontrada: [1, 0, 0, 0, 1, 1, 0]\n",
      "Melhor valor encontrado: 16.1\n"
     ]
    }
   ],
   "source": [
    "import numpy as np\n",
    "\n",
    "# Parâmetros do algoritmo\n",
    "num_formigas = 10\n",
    "num_iteracoes = 100\n",
    "alpha = 1.0  # Peso do feromônio\n",
    "beta = 2.0   # Peso da informação heurística\n",
    "rho = 0.5    # Taxa de evaporação do feromônio\n",
    "Q = 100      # Quantidade de feromônio depositado\n",
    "capacidade_mochila = 15\n",
    "\n",
    "# Itens disponíveis: (peso, valor)\n",
    "itens = [(3, 2.1), (2, 1.2), (8, 8.1), (9, 8.6), (6, 7.3), (5, 6.7), (13, 14.7)]\n",
    "\n",
    "# Função de avaliação\n",
    "def avalia_solucao(solucao):\n",
    "    peso_total = sum(itens[i][0] for i in range(len(solucao)) if solucao[i] == 1)\n",
    "    if peso_total > capacidade_mochila:\n",
    "        return 0\n",
    "    valor_total = sum(itens[i][1] for i in range(len(solucao)) if solucao[i] == 1)\n",
    "    return valor_total\n",
    "\n",
    "# Inicialização dos feromônios\n",
    "feromonio_inicial = 1 / len(itens)\n",
    "feromonios = np.full((num_formigas, len(itens)), feromonio_inicial)\n",
    "\n",
    "# Inicializa a melhor solução e seu valor (o pior possível para começar)\n",
    "melhor_solucao = None\n",
    "melhor_valor = float('-inf')\n",
    "\n",
    "# Loop principal de iterações do ACO\n",
    "for iteracao in range(num_iteracoes):\n",
    "\n",
    "    # Para cada formiga na colônia\n",
    "    for formiga in range(num_formigas):\n",
    "\n",
    "        # Cria uma solução inicial vazia (nenhum item na mochila)\n",
    "        solucao = [0] * len(itens)\n",
    "\n",
    "        # Para cada item disponível\n",
    "        for i in range(len(itens)):\n",
    "\n",
    "            # 50% de chance de escolher o item com base na heurística (randomizado aqui)\n",
    "            if np.random.rand() < 0.5:\n",
    "                # Aleatoriamente decide se inclui o item ou não\n",
    "                solucao[i] = 1 if np.random.rand() < 0.5 else 0\n",
    "            else:\n",
    "                # Caso contrário, usa a informação de feromônio e heurística para decidir\n",
    "\n",
    "                # Calcula a probabilidade de incluir o item:\n",
    "                # - feromonios[formiga, i] representa a quantidade de feromônio para esse item e formiga\n",
    "                # - alpha e beta são parâmetros de controle da influência de feromônio e heurística\n",
    "                # - heurística aqui é 1/peso, ou seja, prefere itens mais leves\n",
    "                probabilidade = (feromonios[formiga, i] ** alpha) * ((1 / itens[i][0]) ** beta)\n",
    "\n",
    "                # Decide incluir ou não com base nessa probabilidade\n",
    "                solucao[i] = 1 if np.random.rand() < probabilidade else 0\n",
    "\n",
    "        # Avalia o valor total da solução construída (função definida separadamente)\n",
    "        valor_solucao = avalia_solucao(solucao)\n",
    "\n",
    "        # Se essa solução for melhor do que a melhor até agora, atualiza o melhor registro\n",
    "        if valor_solucao > melhor_valor:\n",
    "            melhor_solucao = solucao\n",
    "            melhor_valor = valor_solucao\n",
    "\n",
    "    # Após todas as formigas, atualiza os feromônios com base na melhor solução da iteração\n",
    "    for i in range(len(itens)):            # Para cada item\n",
    "        for j in range(num_formigas):      # Para cada formiga\n",
    "\n",
    "            # Se o item está na melhor solução, reforça o feromônio\n",
    "            if melhor_solucao[i] == 1:\n",
    "                feromonios[j, i] += Q / melhor_valor  # Q é uma constante de reforço\n",
    "            else:\n",
    "                # Caso contrário, aplica evaporação do feromônio\n",
    "                feromonios[j, i] *= (1 - rho)         # rho é a taxa de evaporação\n",
    "\n",
    "\n",
    "print(\"Melhor solução encontrada:\", melhor_solucao)\n",
    "print(\"Melhor valor encontrado:\", melhor_valor)\n"
   ]
  },
  {
   "cell_type": "code",
   "execution_count": null,
   "metadata": {},
   "outputs": [],
   "source": []
  }
 ],
 "metadata": {
  "kernelspec": {
   "display_name": "Python 3",
   "language": "python",
   "name": "python3"
  },
  "language_info": {
   "codemirror_mode": {
    "name": "ipython",
    "version": 3
   },
   "file_extension": ".py",
   "mimetype": "text/x-python",
   "name": "python",
   "nbconvert_exporter": "python",
   "pygments_lexer": "ipython3",
   "version": "3.10.11"
  }
 },
 "nbformat": 4,
 "nbformat_minor": 2
}
