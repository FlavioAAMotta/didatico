{
 "cells": [
  {
   "cell_type": "code",
   "execution_count": 1,
   "metadata": {},
   "outputs": [
    {
     "ename": "AttributeError",
     "evalue": "'int' object has no attribute 'values'",
     "output_type": "error",
     "traceback": [
      "\u001b[1;31m---------------------------------------------------------------------------\u001b[0m",
      "\u001b[1;31mAttributeError\u001b[0m                            Traceback (most recent call last)",
      "Input \u001b[1;32mIn [1]\u001b[0m, in \u001b[0;36m<cell line: 56>\u001b[1;34m()\u001b[0m\n\u001b[0;32m     54\u001b[0m fitness \u001b[38;5;241m=\u001b[39m get_individual_fitness(population)\n\u001b[0;32m     55\u001b[0m generation \u001b[38;5;241m=\u001b[39m \u001b[38;5;241m1\u001b[39m\n\u001b[1;32m---> 56\u001b[0m \u001b[38;5;28;01mwhile\u001b[39;00m \u001b[38;5;28mmin\u001b[39m(\u001b[43mfitness\u001b[49m\u001b[38;5;241;43m.\u001b[39;49m\u001b[43mvalues\u001b[49m()) \u001b[38;5;241m>\u001b[39m \u001b[38;5;241m0\u001b[39m:\n\u001b[0;32m     57\u001b[0m     \u001b[38;5;28mprint\u001b[39m (\u001b[38;5;124m'\u001b[39m\u001b[38;5;124mGeneration \u001b[39m\u001b[38;5;124m'\u001b[39m \u001b[38;5;241m+\u001b[39m \u001b[38;5;28mstr\u001b[39m(generation) \u001b[38;5;241m+\u001b[39m \u001b[38;5;124m'\u001b[39m\u001b[38;5;124m - Fittest is \u001b[39m\u001b[38;5;124m'\u001b[39m \u001b[38;5;241m+\u001b[39m \u001b[38;5;28mstr\u001b[39m(\u001b[38;5;28mmin\u001b[39m(fitness\u001b[38;5;241m.\u001b[39mvalues())))\n\u001b[0;32m     58\u001b[0m     population \u001b[38;5;241m=\u001b[39m geneticAlgorithm(population, fitness)\n",
      "\u001b[1;31mAttributeError\u001b[0m: 'int' object has no attribute 'values'"
     ]
    }
   ],
   "source": [
    "import random\n",
    "\n",
    "def geneticAlgorithm(population, fitness):\n",
    "    mutationProbability = 0.03\n",
    "    newPopulation = []\n",
    "    populationSize = len(population)\n",
    "    while len(newPopulation) < populationSize:\n",
    "        individual1 = random.choice(population)\n",
    "        individual2 = random.choice(population)\n",
    "        crossoverPoint = random.randint(1,7)\n",
    "        offspring1 = individual1[0:crossoverPoint] + individual2[crossoverPoint:]\n",
    "        offspring2 = individual2[0:crossoverPoint] + individual1[crossoverPoint:]\n",
    "        if random.random() < mutationProbability:\n",
    "            mutationPoint = random.randint(0,7)\n",
    "            offspring1 = offspring1[0:mutationPoint] + str(random.randint(1,8)) + offspring1[mutationPoint+1:]\n",
    "        if random.random() < mutationProbability:\n",
    "            mutationPoint = random.randint(0,7)\n",
    "            offspring2 = offspring2[0:mutationPoint] + str(random.randint(1,8)) + offspring2[mutationPoint+1:]\n",
    "        newPopulation.append(offspring1)\n",
    "        newPopulation.append(offspring2)\n",
    "    return newPopulation\n",
    "\n",
    "def get_individual_fitness(individual):\n",
    "    conflicts = 0\n",
    "    for i in range(len(individual)):\n",
    "        for j in range(i+1, len(individual)):\n",
    "            if individual[i] == individual[j]:\n",
    "                conflicts = conflicts + 1   \n",
    "            offset = j - i\n",
    "            if abs(int(individual[i]) - int(individual[j])) == offset:\n",
    "                conflicts = conflicts + 1\n",
    "    return conflicts\n",
    "\n",
    "def get_population_fitness(population):\n",
    "    fitness = {}\n",
    "    for individual in population:\n",
    "        fitness[individual] = get_individual_fitness(individual)\n",
    "    return fitness\n",
    "\n",
    "#generate a random population\n",
    "def generateRandomPopulation(populationSize):\n",
    "    population = []\n",
    "    for i in range(populationSize):\n",
    "        individual = ''\n",
    "        for j in range(8):\n",
    "            individual = individual + str(random.randint(1,8))\n",
    "        population.append(individual)\n",
    "    return population\n",
    "\n",
    "\n",
    "#main\n",
    "\n",
    "population = generateRandomPopulation(100) # ['12312312','32132132',...]']\n",
    "fitness = get_individual_fitness(population)\n",
    "generation = 1\n",
    "while min(fitness.values()) > 0:\n",
    "    print ('Generation ' + str(generation) + ' - Fittest is ' + str(min(fitness.values())))\n",
    "    population = geneticAlgorithm(population, fitness)\n",
    "    fitness = get_individual_fitness(population)\n",
    "    generation = generation + 1\n",
    "print ('Solution found in generation ' + str(generation-1))\n",
    "print ('Fitness: ' + str(min(fitness.values())))\n",
    "for individual in fitness.keys():\n",
    "    if fitness[individual] == 0:\n",
    "        print ('Solution: ' + individual)\n",
    "        break\n",
    "    \n"
   ]
  },
  {
   "cell_type": "code",
   "execution_count": null,
   "metadata": {},
   "outputs": [],
   "source": []
  }
 ],
 "metadata": {
  "kernelspec": {
   "display_name": "Python 3",
   "language": "python",
   "name": "python3"
  },
  "language_info": {
   "codemirror_mode": {
    "name": "ipython",
    "version": 3
   },
   "file_extension": ".py",
   "mimetype": "text/x-python",
   "name": "python",
   "nbconvert_exporter": "python",
   "pygments_lexer": "ipython3",
   "version": "3.10.4"
  }
 },
 "nbformat": 4,
 "nbformat_minor": 2
}
