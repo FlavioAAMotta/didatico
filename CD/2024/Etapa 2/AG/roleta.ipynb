{
 "cells": [
  {
   "cell_type": "code",
   "execution_count": 28,
   "metadata": {},
   "outputs": [],
   "source": [
    "import random"
   ]
  },
  {
   "cell_type": "code",
   "execution_count": 29,
   "metadata": {},
   "outputs": [
    {
     "name": "stdout",
     "output_type": "stream",
     "text": [
      "1 0 4 3 3 2 1 1  - aptidão: 18\n",
      "6 0 0 1 3 3 0 3  - aptidão: 17\n",
      "6 3 7 4 0 2 6 5  - aptidão: 24\n",
      "4 2 3 5 1 1 6 1  - aptidão: 22\n",
      "5 5 4 0 7 1 6 1  - aptidão: 23\n",
      "4 5 3 1 0 3 4 1  - aptidão: 17\n",
      "3 1 6 4 7 5 2 5  - aptidão: 24\n",
      "5 3 4 1 2 3 2 7  - aptidão: 19\n",
      "6 4 3 5 0 3 0 5  - aptidão: 21\n",
      "6 4 1 3 5 3 7 6  - aptidão: 22\n"
     ]
    }
   ],
   "source": [
    "# seed para reprodução dos resultados\n",
    "random.seed(42)\n",
    "\n",
    "def calcular_aptidao(individuo):\n",
    "    aptidao = 0\n",
    "    for i in range(0, 8):\n",
    "        for j in range(i+1, 8):\n",
    "            if individuo[i] == individuo[j]:\n",
    "                aptidao += 1\n",
    "            if individuo[i] == individuo[j] - (j - i):\n",
    "                aptidao += 1\n",
    "            if individuo[i] == individuo[j] + (j - i):\n",
    "                aptidao += 1\n",
    "    return 28 - aptidao\n",
    "\n",
    "def print_matriz(populacao):\n",
    "    for individuo in populacao:\n",
    "        for valor in individuo:\n",
    "            print(valor, end=' ')\n",
    "        print()\n",
    "\n",
    "def print_matriz_com_aptidao(populacao):\n",
    "    for individuo in populacao:\n",
    "        for valor in individuo:\n",
    "            print(valor, end=' ')\n",
    "        print(' - aptidão:', calcular_aptidao(individuo))\n",
    "\n",
    "# População inicial sintética\n",
    "populacao_inicial = []\n",
    "for i in range(0, 10):\n",
    "    populacao_inicial.append([random.randint(0, 7) for i in range(0, 8)])        \n",
    "print_matriz_com_aptidao(populacao_inicial)"
   ]
  },
  {
   "cell_type": "code",
   "execution_count": 34,
   "metadata": {},
   "outputs": [
    {
     "name": "stdout",
     "output_type": "stream",
     "text": [
      "Roleta\n",
      "6 4 1 3 5 3 7 6  - aptidão: 22\n",
      "4 2 3 5 1 1 6 1  - aptidão: 22\n",
      "Torneio\n",
      "6 0 0 1 3 3 0 3  - aptidão: 17\n",
      "6 4 3 5 0 3 0 5  - aptidão: 21\n",
      "Ranking\n",
      "6 4 3 5 0 3 0 5  - aptidão: 21\n",
      "5 5 4 0 7 1 6 1  - aptidão: 23\n",
      "Estocástica\n",
      "4 5 3 1 0 3 4 1  - aptidão: 17\n",
      "6 4 1 3 5 3 7 6  - aptidão: 22\n"
     ]
    }
   ],
   "source": [
    "# Métodos de seleção diferentes\n",
    "# Quanto maior a aptidão, menor a chance de ser selecionado\n",
    "\n",
    "def selecao_roleta(populacao):\n",
    "    soma_aptidoes = sum(1.0 / calcular_aptidao(individuo) for individuo in populacao if calcular_aptidao(individuo) > 0)\n",
    "    roleta = []\n",
    "    for individuo in populacao:\n",
    "        aptidao_invertida = 1.0 / calcular_aptidao(individuo) if calcular_aptidao(individuo) > 0 else 0\n",
    "        proporcao = aptidao_invertida / soma_aptidoes\n",
    "        roleta += [individuo] * int(proporcao * 100)\n",
    "    return random.choice(roleta) if roleta else None\n",
    "\n",
    "def selecao_torneio(populacao):\n",
    "    torneio = random.sample(populacao, 3)\n",
    "    melhor = min(torneio, key=calcular_aptidao)\n",
    "    return melhor\n",
    "\n",
    "\n",
    "def selecao_ranking(populacao):\n",
    "    populacao = sorted(populacao, key=calcular_aptidao)\n",
    "    total_rank = sum(range(1, len(populacao)+1))\n",
    "    roleta = []\n",
    "    for index, individuo in enumerate(populacao):\n",
    "        proporcao = (index + 1) / total_rank\n",
    "        roleta += [individuo] * int(proporcao * 100)\n",
    "    return random.choice(roleta) if roleta else None\n",
    "\n",
    "\n",
    "def selecao_estocastica(populacao):\n",
    "    populacao = sorted(populacao, key=calcular_aptidao)\n",
    "    soma_aptidoes = sum(1.0 / calcular_aptidao(individuo) for individuo in populacao if calcular_aptidao(individuo) > 0)\n",
    "    roleta = []\n",
    "    for individuo in populacao:\n",
    "        aptidao_invertida = 1.0 / calcular_aptidao(individuo) if calcular_aptidao(individuo) > 0 else 0\n",
    "        proporcao = aptidao_invertida / soma_aptidoes\n",
    "        roleta += [individuo] * int(proporcao * 100)\n",
    "    return random.choice(roleta) if roleta else None\n",
    "\n",
    "# Testando os métodos de seleção\n",
    "populacao_roleta = []\n",
    "populacao_torneio = []\n",
    "populacao_ranking = []\n",
    "populacao_estocastica = []\n",
    " \n",
    "for i in range(0, 2):\n",
    "    populacao_roleta.append(selecao_roleta(populacao_inicial))    \n",
    "    \n",
    "for i in range(0, 2):\n",
    "    populacao_torneio.append(selecao_torneio(populacao_inicial))\n",
    "    \n",
    "for i in range(0, 2):\n",
    "    populacao_ranking.append(selecao_ranking(populacao_inicial))\n",
    "    \n",
    "for i in range(0, 2):\n",
    "    populacao_estocastica.append(selecao_estocastica(populacao_inicial))\n",
    "    \n",
    "print('Roleta')\n",
    "print_matriz_com_aptidao(populacao_roleta)\n",
    "print('Torneio')\n",
    "print_matriz_com_aptidao(populacao_torneio)\n",
    "print('Ranking')\n",
    "print_matriz_com_aptidao(populacao_ranking)\n",
    "print('Estocástica')\n",
    "print_matriz_com_aptidao(populacao_estocastica)"
   ]
  },
  {
   "cell_type": "code",
   "execution_count": null,
   "metadata": {},
   "outputs": [],
   "source": []
  }
 ],
 "metadata": {
  "kernelspec": {
   "display_name": "Python 3",
   "language": "python",
   "name": "python3"
  },
  "language_info": {
   "codemirror_mode": {
    "name": "ipython",
    "version": 3
   },
   "file_extension": ".py",
   "mimetype": "text/x-python",
   "name": "python",
   "nbconvert_exporter": "python",
   "pygments_lexer": "ipython3",
   "version": "3.10.4"
  }
 },
 "nbformat": 4,
 "nbformat_minor": 2
}
