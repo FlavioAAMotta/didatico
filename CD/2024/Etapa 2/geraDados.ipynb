{
 "cells": [
  {
   "cell_type": "code",
   "execution_count": 9,
   "metadata": {},
   "outputs": [],
   "source": [
    "# Arquivo que defino uma função e gerar um arquivo de texto com a saída da função para um intervalo de valores dado\n",
    "\n",
    "def f(x):\n",
    "    return x**2\n",
    "\n",
    "# passo pode ser float\n",
    "def gera_saida(funcao, inicio, fim, passo, nome_arquivo):\n",
    "    with open(nome_arquivo, 'w') as arquivo:\n",
    "        x = inicio\n",
    "        while x <= fim:\n",
    "            y = funcao(x)\n",
    "            arquivo.write(f'{x}\\t{y}\\n')  # Escreve o valor de x e y no arquivo, separados por um tab e com uma quebra de linha\n",
    "            x += passo\n"
   ]
  },
  {
   "cell_type": "code",
   "execution_count": 10,
   "metadata": {},
   "outputs": [],
   "source": [
    "# Lendo os valores de entrada\n",
    "inicio = int(input('Digite o valor de início: '))\n",
    "fim = int(input('Digite o valor de fim: '))\n",
    "passo = float(input('Digite o valor do passo: '))\n",
    "nome_arquivo = input('Digite o nome do arquivo: ')\n",
    "\n",
    "gera_saida(f, inicio, fim, passo, nome_arquivo)"
   ]
  },
  {
   "cell_type": "code",
   "execution_count": null,
   "metadata": {},
   "outputs": [],
   "source": []
  }
 ],
 "metadata": {
  "kernelspec": {
   "display_name": "Python 3",
   "language": "python",
   "name": "python3"
  },
  "language_info": {
   "codemirror_mode": {
    "name": "ipython",
    "version": 3
   },
   "file_extension": ".py",
   "mimetype": "text/x-python",
   "name": "python",
   "nbconvert_exporter": "python",
   "pygments_lexer": "ipython3",
   "version": "3.10.4"
  }
 },
 "nbformat": 4,
 "nbformat_minor": 2
}
